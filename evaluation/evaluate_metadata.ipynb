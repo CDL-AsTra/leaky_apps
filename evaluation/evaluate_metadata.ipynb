{
 "cells": [
  {
   "cell_type": "code",
   "execution_count": null,
   "metadata": {},
   "outputs": [],
   "source": [
    "import duckdb\n",
    "import pandas as pd\n",
    "import numpy as np\n",
    "import json\n",
    "import os\n",
    "import sys\n",
    "sys.path.append('../analysis/')\n",
    "\n",
    "import suffix_classes\n",
    "import importlib\n",
    "\n",
    "importlib.reload(suffix_classes)\n"
   ]
  },
  {
   "cell_type": "code",
   "execution_count": null,
   "metadata": {},
   "outputs": [],
   "source": [
    "prefix = \"\" # adjust to your location\n",
    "output_dir = \"\""
   ]
  },
  {
   "cell_type": "code",
   "execution_count": null,
   "metadata": {},
   "outputs": [],
   "source": [
    "# Update these paths to match your local setup\n",
    "sqlite_2023 = os.path.join(prefix, \"results/matching_2023.db\")\n",
    "sqlite_2024 = os.path.join(prefix, \"results/matching_2024.db\")\n",
    "matching_file = \"../dataset/apps/matching.json\""
   ]
  },
  {
   "cell_type": "code",
   "execution_count": null,
   "metadata": {},
   "outputs": [],
   "source": [
    "duckdb.install_extension(\"sqlite\")\n",
    "duckdb.load_extension(\"sqlite\")\n",
    "duckdb_conn_2023 = duckdb.connect(database= sqlite_2023)\n",
    "duckdb_conn_2024 = duckdb.connect(database= sqlite_2024)"
   ]
  },
  {
   "cell_type": "code",
   "execution_count": null,
   "metadata": {},
   "outputs": [],
   "source": [
    "matching_ids = {}\n",
    "with open(matching_file) as f:\n",
    "    matching_ids = json.load(f)"
   ]
  },
  {
   "cell_type": "code",
   "execution_count": null,
   "metadata": {},
   "outputs": [],
   "source": [
    "num_ios_apps = len(duckdb_conn_2023.sql(\"SELECT * FROM apps where platform = 'ios'\").fetchall())"
   ]
  },
  {
   "cell_type": "code",
   "execution_count": null,
   "metadata": {},
   "outputs": [],
   "source": [
    "num_android_apps = len(duckdb_conn_2023.sql(\"SELECT * FROM apps where platform = 'android'\").fetchall())"
   ]
  },
  {
   "cell_type": "code",
   "execution_count": null,
   "metadata": {},
   "outputs": [],
   "source": [
    "apps = duckdb_conn_2023.sql(\"SELECT app_name, platform FROM apps\").fetchall()\n",
    "android = [app[0] for app in apps if app[1] == \"android\"]\n",
    "ios = [app[0] for app in apps if app[1] == \"ios\"]\n",
    "matching_results = {}\n",
    "for k,v in matching_ids.items():\n",
    "    if v in matching_results.values():\n",
    "        #print(k)\n",
    "        pass\n",
    "    if k in ios and v in android and v not in matching_results.values():\n",
    "        matching_results[k] = v\n"
   ]
  },
  {
   "cell_type": "code",
   "execution_count": null,
   "metadata": {},
   "outputs": [],
   "source": [
    "num_apps = len(duckdb_conn_2023.sql(\"SELECT * FROM apps\").fetchall())"
   ]
  },
  {
   "cell_type": "code",
   "execution_count": null,
   "metadata": {},
   "outputs": [],
   "source": [
    "existing_suffixes = duckdb_conn_2023.sql(\"SELECT DISTINCT suffix FROM files\").fetchall()"
   ]
  },
  {
   "cell_type": "code",
   "execution_count": null,
   "metadata": {},
   "outputs": [],
   "source": [
    "len(existing_suffixes)"
   ]
  },
  {
   "cell_type": "code",
   "execution_count": null,
   "metadata": {},
   "outputs": [],
   "source": [
    "def get_formated(number, total):\n",
    "    return f\"{number:,} ({(number / total * 100):.2f}%)\""
   ]
  },
  {
   "cell_type": "code",
   "execution_count": null,
   "metadata": {},
   "outputs": [],
   "source": [
    "base_query_file_suffix = \"SELECT apps.app_name, apps.platform, files.file_size, files.file_name, files.file_path FROM files JOIN apps ON files.app_id = apps.id where file_name like $1\"\n",
    "hidden_files_query = \"SELECT apps.app_name, apps.platform, files.file_size, files.file_name, files.file_path  FROM files JOIN apps ON files.app_id = apps.id where file_name like '.%'\"\n",
    "hidden_directories_query = \"SELECT apps.app_name, apps.platform, files.file_size, files.file_name, files.file_path FROM files JOIN apps ON files.app_id = apps.id where file_path like '%/.%' and file_name not like '.%'\"\n",
    "\n",
    "only_android = \" AND platform = 'android'\"\n",
    "only_ios = \" AND platform = 'ios'\"\n",
    "\n",
    "\n",
    "all_suffix_query = \"SELECT DISTINCT files.suffix FROM files JOIN apps ON files.app_id = apps.id where file_size >= 0\"\n",
    "\n",
    "get_suffix_file_count = \"\"\"SELECT suffix, COUNT(files.id) AS file_count\n",
    "FROM files JOIN apps on files.app_id = apps.id\n",
    "WHERE platform = $1\n",
    "GROUP BY suffix;\"\"\"\n",
    "\n",
    "get_suffix_file_size = \"\"\"SELECT suffix, SUM(files.file_size) AS total_size\n",
    "FROM files JOIN apps on files.app_id = apps.id\n",
    "WHERE platform = $1\n",
    "GROUP BY suffix;\"\"\"\n",
    "\n",
    "\n",
    "get_suffix_app_count = \"\"\"SELECT suffix, COUNT(DISTINCT files.app_id)\n",
    "FROM files JOIN apps on files.app_id = apps.id\n",
    "WHERE platform = $1\n",
    "GROUP BY files.suffix;\"\"\"\n",
    "\n",
    "get_suffix_per_app_category = \"\"\"\n",
    "SELECT COUNT(DISTINCT files.app_id)\n",
    "FROM files JOIN apps on files.app_id = apps.id\n",
    "WHERE platform = $1 AND ( \n",
    "\"\"\"\n",
    "\n"
   ]
  },
  {
   "cell_type": "code",
   "execution_count": null,
   "metadata": {},
   "outputs": [],
   "source": [
    "def get_per_platform(sql_query, arguments = [], duckdb_conn = duckdb_conn_2023):\n",
    "    \"\"\"\n",
    "    Executes the given SQL query for all platforms, Android only, and iOS only.\n",
    "\n",
    "    Args:\n",
    "        sql_query (str): The SQL query to execute.\n",
    "        arguments (list): List of arguments for parameterized queries.\n",
    "        duckdb_conn: DuckDB connection object.\n",
    "\n",
    "    Returns:\n",
    "        tuple: (both, android, ios) where each is a list of query results.\n",
    "    \"\"\"\n",
    "    both = duckdb_conn.execute(sql_query, arguments).fetchall()\n",
    "    android = duckdb_conn.execute(sql_query + only_android, arguments).fetchall()\n",
    "    ios = duckdb_conn.execute(sql_query + only_ios, arguments).fetchall()\n",
    "    return both, android, ios\n",
    "\n",
    "def get_unique_apps(results):\n",
    "    \"\"\"\n",
    "    Extracts unique app identifiers from query results.\n",
    "\n",
    "    Args:\n",
    "        results (list): Query results, each containing (app_name, platform, ...).\n",
    "\n",
    "    Returns:\n",
    "        set: Unique app identifiers as \"app_name - platform\".\n",
    "    \"\"\"\n",
    "    apps = set()\n",
    "    for result in results:\n",
    "        apps.add(result[0] + \" - \" + result[1])\n",
    "    return apps\n",
    "\n",
    "def get_unique_per_argument(results, index):\n",
    "    \"\"\"\n",
    "    Extracts unique values from a specific column in the query results.\n",
    "\n",
    "    Args:\n",
    "        results (list): Query results.\n",
    "        index (int): Index of the column to extract unique values from.\n",
    "\n",
    "    Returns:\n",
    "        set: Unique values from the specified column.\n",
    "    \"\"\"\n",
    "    unique = set()\n",
    "    for result in results:\n",
    "        unique.add(result[index])\n",
    "    return unique\n",
    "\n",
    "def get_query_stats(query, arguments = [], unique_index = None, duckdb_conn = duckdb_conn_2023):\n",
    "    \"\"\"\n",
    "    Runs a query per platform and computes unique app and argument statistics.\n",
    "\n",
    "    Args:\n",
    "        query (str): SQL query to execute.\n",
    "        arguments (list): Arguments for the query.\n",
    "        unique_index (int, optional): Index for extracting unique values.\n",
    "        duckdb_conn: DuckDB connection object.\n",
    "\n",
    "    Returns:\n",
    "        list: [both, android, ios, both_apps, android_apps, ios_apps, both_unique, android_unique, ios_unique]\n",
    "    \"\"\"\n",
    "    both, android, ios = get_per_platform(query, arguments, duckdb_conn=duckdb_conn)\n",
    "    both_apps = get_unique_apps(both)\n",
    "    android_apps = get_unique_apps(android)\n",
    "    ios_apps = get_unique_apps(ios)\n",
    "\n",
    "    both_unique = android_unique = ios_unique = set()\n",
    "    if unique_index is not None:\n",
    "        both_unique = get_unique_per_argument(both, unique_index)\n",
    "        android_unique = get_unique_per_argument(android, unique_index)\n",
    "        ios_unique = get_unique_per_argument(ios, unique_index)\n",
    "\n",
    "    return [both, android, ios, both_apps, android_apps, ios_apps, both_unique, android_unique, ios_unique]    \n",
    "\n",
    "def get_hidden_files(duckdb_conn = duckdb_conn_2023):\n",
    "    \"\"\"\n",
    "    Gets statistics for hidden files (files starting with a dot).\n",
    "\n",
    "    Args:\n",
    "        duckdb_conn: DuckDB connection object.\n",
    "\n",
    "    Returns:\n",
    "        list: Query statistics for hidden files.\n",
    "    \"\"\"\n",
    "    return get_query_stats(hidden_files_query, unique_index=3, duckdb_conn=duckdb_conn)\n",
    "\n",
    "def get_hidden_files_filtered(duckdb_conn = duckdb_conn_2023):\n",
    "    \"\"\"\n",
    "    Gets statistics for hidden files, excluding common system and git files.\n",
    "\n",
    "    Args:\n",
    "        duckdb_conn: DuckDB connection object.\n",
    "\n",
    "    Returns:\n",
    "        list: Query statistics for filtered hidden files.\n",
    "    \"\"\"\n",
    "    not_ds_store_git_add = \" AND file_name not like '.DS_Store' AND file_name not like '.gitkeep' AND file_name not like '.gitignore' AND file_name not like '.placeholder'  AND file_size > 0\" \n",
    "    stats = (get_query_stats(hidden_files_query + not_ds_store_git_add, unique_index=3, duckdb_conn=duckdb_conn))\n",
    "    return stats\n",
    "\n",
    "def get_unique_hidden_directories(results):\n",
    "    \"\"\"\n",
    "    Extracts unique hidden directory names from file paths.\n",
    "\n",
    "    Args:\n",
    "        results (iterable): Iterable of file paths.\n",
    "\n",
    "    Returns:\n",
    "        set: Unique hidden directory names.\n",
    "    \"\"\"\n",
    "    hidden_directory = set()\n",
    "    for directory in results:\n",
    "        splitted = directory.split(\"/\")\n",
    "        for i in range(1, len(splitted)):\n",
    "            if splitted[i].startswith(\".\") and i != len(splitted) -1:\n",
    "                hidden_directory.add(splitted[i])\n",
    "    return hidden_directory\n",
    "\n",
    "def get_hidden_directory_stats(duckdb_conn = duckdb_conn_2023):\n",
    "    \"\"\"\n",
    "    Gets statistics for hidden directories (directories starting with a dot).\n",
    "\n",
    "    Args:\n",
    "        duckdb_conn: DuckDB connection object.\n",
    "\n",
    "    Returns:\n",
    "        list: Query statistics for hidden directories, including unique hidden directory names.\n",
    "    \"\"\"\n",
    "    stats = get_query_stats(hidden_directories_query, unique_index=4, duckdb_conn=duckdb_conn)\n",
    "    stats[6] = get_unique_hidden_directories(stats[6])\n",
    "    stats[7] = get_unique_hidden_directories(stats[7])\n",
    "    stats[8] = get_unique_hidden_directories(stats[8])\n",
    "    return stats\n"
   ]
  },
  {
   "cell_type": "code",
   "execution_count": null,
   "metadata": {},
   "outputs": [],
   "source": [
    "def count_result_to_map(results):\n",
    "    \"\"\"\n",
    "    Converts a list of (key, value) tuples into a dictionary.\n",
    "\n",
    "    Args:\n",
    "        results (list): List of tuples, where each tuple is (key, value).\n",
    "\n",
    "    Returns:\n",
    "        dict: Dictionary mapping keys to values.\n",
    "    \"\"\"\n",
    "    result_map = {}\n",
    "    for result in results:\n",
    "        if result[0] not in result_map:\n",
    "            result_map[result[0]] = result[1]\n",
    "    return result_map\n",
    "\n",
    "def get_all_suffix_table(duckdb_conn = duckdb_conn_2023):\n",
    "    \"\"\"\n",
    "    Builds a DataFrame summarizing file statistics per suffix for Android and iOS.\n",
    "\n",
    "    Args:\n",
    "        duckdb_conn: DuckDB connection object.\n",
    "\n",
    "    Returns:\n",
    "        pd.DataFrame: DataFrame indexed by statistic type, with columns as suffixes.\n",
    "    \"\"\"\n",
    "    results_per_suffix = {}\n",
    "    suffixes = duckdb_conn.execute(all_suffix_query).fetchall()\n",
    "    size_android = count_result_to_map(duckdb_conn.execute(get_suffix_file_size, [\"android\"]).fetchall())\n",
    "    size_ios = count_result_to_map(duckdb_conn.execute(get_suffix_file_size, [\"ios\"]).fetchall())\n",
    "    files_android = count_result_to_map(duckdb_conn.execute(get_suffix_file_count, [\"android\"]).fetchall())\n",
    "    files_ios = count_result_to_map(duckdb_conn.execute(get_suffix_file_count, [\"ios\"]).fetchall())\n",
    "    apps_android = count_result_to_map(duckdb_conn.execute(get_suffix_app_count, [\"android\"]).fetchall())\n",
    "    apps_ios = count_result_to_map(duckdb_conn.execute(get_suffix_app_count, [\"ios\"]).fetchall())\n",
    "\n",
    "    for suffix in suffixes:\n",
    "        suffix = suffix[0]\n",
    "        results_per_suffix[suffix] = [\n",
    "            files_android.get(suffix, 0),\n",
    "            size_android.get(suffix, 0),\n",
    "            apps_android.get(suffix, 0),\n",
    "            files_ios.get(suffix, 0),\n",
    "            size_ios.get(suffix, 0),\n",
    "            apps_ios.get(suffix, 0)\n",
    "        ]\n",
    "    \n",
    "    return pd.DataFrame(\n",
    "        results_per_suffix,\n",
    "        index=[\"Android Files\", \"Android Size\", \"Android Apps\", \"iOS Files\", \"iOS Size\", \"iOS Apps\"]\n",
    "    )\n"
   ]
  },
  {
   "cell_type": "code",
   "execution_count": null,
   "metadata": {},
   "outputs": [],
   "source": [
    "def get_suffix_stat_table(duckdb_conn = duckdb_conn_2023):\n",
    "    \"\"\"\n",
    "    Aggregates file statistics per suffix category and per individual suffix.\n",
    "\n",
    "    Args:\n",
    "        duckdb_conn: DuckDB connection object.\n",
    "\n",
    "    Returns:\n",
    "        tuple:\n",
    "            - pd.DataFrame: Aggregated statistics per suffix category (index: stat type, columns: category).\n",
    "            - pd.DataFrame: Statistics per individual suffix (index: stat type, columns: suffix).\n",
    "    \"\"\"\n",
    "    # Get all suffix statistics as a dictionary\n",
    "    all_suffix_results = get_all_suffix_table(duckdb_conn = duckdb_conn).to_dict()    \n",
    "\n",
    "    results = {}\n",
    "    results_per_suffix = {}\n",
    "    suffixes = set()\n",
    "    other = set()\n",
    "\n",
    "    # Aggregate stats for each suffix category defined in suffix_classes.all_types\n",
    "    for k, v in suffix_classes.all_types.items():\n",
    "        android_files = 0 \n",
    "        ios_files = 0\n",
    "        android_size = 0\n",
    "        ios_size = 0\n",
    "        query = \"\"\n",
    "        for value in v:\n",
    "            try:\n",
    "                # Sum up stats for each suffix in the category\n",
    "                android_files += all_suffix_results[value][\"Android Files\"]\n",
    "                android_size += all_suffix_results[value][\"Android Size\"]\n",
    "                ios_files += all_suffix_results[value][\"iOS Files\"]\n",
    "                ios_size += all_suffix_results[value][\"iOS Size\"]\n",
    "                results_per_suffix[value] = [\n",
    "                    all_suffix_results[value][\"Android Files\"],\n",
    "                    all_suffix_results[value][\"Android Size\"],\n",
    "                    all_suffix_results[value][\"Android Apps\"],\n",
    "                    all_suffix_results[value][\"iOS Files\"],\n",
    "                    all_suffix_results[value][\"iOS Size\"],\n",
    "                    all_suffix_results[value][\"iOS Apps\"]\n",
    "                ]\n",
    "                query += \"OR suffix = '\" + value + \"' \"\n",
    "                suffixes.add(value)\n",
    "            except KeyError:\n",
    "                # Skip suffixes not present in the results\n",
    "                pass\n",
    "        try:\n",
    "            # Remove leading 'OR' and get app counts for the category\n",
    "            query = query[2:]\n",
    "            android_apps = duckdb_conn.execute(get_suffix_per_app_category + query + \");\", [\"android\"]).fetchall()[0][0]\n",
    "            ios_apps = duckdb_conn.execute(get_suffix_per_app_category + query + \");\", [\"ios\"]).fetchall()[0][0]\n",
    "            results[k] = [android_files, android_size, android_apps, ios_files, ios_size, ios_apps]\n",
    "        except:\n",
    "            # Skip if query fails\n",
    "            pass\n",
    "\n",
    "    # Identify suffixes not in any category (\"other\")\n",
    "    for suffix in duckdb_conn.execute(all_suffix_query).fetchall():\n",
    "        if suffix[0] not in suffixes:\n",
    "            other.add(suffix[0])\n",
    "    \n",
    "    # Aggregate stats for \"other\" and \".split\" suffixes\n",
    "    android_files = 0\n",
    "    android_size = 0\n",
    "    ios_files = 0\n",
    "    ios_size = 0\n",
    "    query = \"\"\n",
    "    split_ios = 0\n",
    "    split_android = 0\n",
    "    split_android_size = 0\n",
    "    split_ios_size = 0\n",
    "    split_query = \"\"\n",
    "    for suffix in other:\n",
    "        if \"'\" in suffix or '\"' in suffix:\n",
    "            continue\n",
    "        if \".split\" in suffix:\n",
    "            split_query += \"OR suffix = '\" + suffix + \"' \"\n",
    "            split_android += all_suffix_results[suffix][\"Android Files\"]\n",
    "            split_ios += all_suffix_results[suffix][\"iOS Files\"]\n",
    "            split_android_size += all_suffix_results[suffix][\"Android Size\"]\n",
    "            split_ios_size += all_suffix_results[suffix][\"iOS Size\"]\n",
    "        else:\n",
    "            # Optionally print suffixes with many apps\n",
    "            if all_suffix_results[suffix][\"Android Apps\"] > 40 or all_suffix_results[suffix][\"iOS Apps\"] > 40:\n",
    "                print(suffix)\n",
    "                print(all_suffix_results[suffix])\n",
    "            android_files += all_suffix_results[suffix][\"Android Files\"]\n",
    "            android_size += all_suffix_results[suffix][\"Android Size\"]\n",
    "            ios_files += all_suffix_results[suffix][\"iOS Files\"]\n",
    "            ios_size += all_suffix_results[suffix][\"iOS Size\"]\n",
    "            query += \"OR suffix = '\" + suffix + \"' \"\n",
    "    query = query[2:]\n",
    "    split_query = split_query[2:]\n",
    "    android_apps = duckdb_conn.execute(get_suffix_per_app_category + query + \");\", [\"android\"]).fetchall()[0][0]\n",
    "    ios_apps = duckdb_conn.execute(get_suffix_per_app_category + query + \");\", [\"ios\"]).fetchall()[0][0]\n",
    "    results[\"other\"] = [android_files, android_size, android_apps, ios_files, ios_size, ios_apps]\n",
    "    results[\"split\"] = [\n",
    "        split_android, split_android_size,\n",
    "        duckdb_conn.execute(get_suffix_per_app_category + split_query + \");\", [\"android\"]).fetchall()[0][0],\n",
    "        split_ios, split_ios_size,\n",
    "        duckdb_conn.execute(get_suffix_per_app_category + split_query + \");\", [\"ios\"]).fetchall()[0][0]\n",
    "    ]\n",
    "\n",
    "    # Return two DataFrames: one for categories, one for individual suffixes\n",
    "    return (\n",
    "        pd.DataFrame(results, index=[\"Android Files\", \"Android Size\", \"Android Apps\", \"iOS Files\", \"iOS Size\", \"iOS Apps\"]),\n",
    "        pd.DataFrame(results_per_suffix, index=[\"Android Files\", \"Android Size\", \"Android Apps\", \"iOS Files\", \"iOS Size\", \"iOS Apps\"])\n",
    "    )\n"
   ]
  },
  {
   "cell_type": "code",
   "execution_count": null,
   "metadata": {},
   "outputs": [],
   "source": [
    "# Hidden files and folders\n",
    "def get_df_for_dot_results(results, name):\n",
    "    # [both, android, ios, both_apps, android_apps, ios_apps, both_unique, android_unique, ios_unique]    \n",
    "    tmp_result = {name: [len(results[1]), len(results[4]), len(results[2]), len(results[5])]}\n",
    "    return pd.DataFrame(tmp_result, index=[\"Android Files\", \"Android Apps\", \"iOS Files\", \"iOS Apps\"])\n",
    "\n",
    "\n"
   ]
  },
  {
   "cell_type": "code",
   "execution_count": null,
   "metadata": {},
   "outputs": [],
   "source": [
    "def get_number_of_files(platform=None, duckdb_conn = duckdb_conn_2023):\n",
    "    query = \"SELECT COUNT(files.id) FROM files, apps WHERE files.app_id = apps.id\"\n",
    "    if platform == 'android':\n",
    "        query += only_android\n",
    "    elif platform == 'ios':\n",
    "        query += only_ios\n",
    "    return duckdb_conn.execute(query).fetchall()[0][0]\n",
    "\n",
    "\n",
    "def get_size_of_files(platform=None, duckdb_conn = duckdb_conn_2023):\n",
    "    query = \"SELECT SUM(files.file_size) FROM files, apps WHERE files.app_id = apps.id\"\n",
    "    if platform == 'android':\n",
    "        query += only_android\n",
    "    elif platform == 'ios':\n",
    "        query += only_ios\n",
    "    return duckdb_conn.execute(query).fetchall()[0][0]\n",
    "\n",
    "def get_number_of_apps(platform=None, duckdb_conn = duckdb_conn_2023):\n",
    "    query = \"SELECT COUNT(apps.id) FROM apps WHERE apps.id > 0\"\n",
    "    if platform == 'android':\n",
    "        query += only_android\n",
    "    elif platform == 'ios':\n",
    "        query += only_ios\n",
    "    return duckdb_conn.execute(query).fetchall()[0][0]"
   ]
  },
  {
   "cell_type": "code",
   "execution_count": null,
   "metadata": {},
   "outputs": [],
   "source": [
    "def format_data_frame(data_frame_to_format, sort_index = True, android_apps = 0, ios_apps = 0):\n",
    "    total_ios_files = get_number_of_files(platform=\"ios\")\n",
    "    total_android_files = get_number_of_files(platform=\"android\")\n",
    "    total_ios_app_size = get_size_of_files(platform=\"ios\")\n",
    "    total_android_app_size = get_size_of_files(platform=\"android\")\n",
    "    total_ios_apps = get_number_of_apps(platform=\"ios\")\n",
    "    total_android_apps = get_number_of_apps(platform=\"android\")\n",
    "    formated_df = data_frame_to_format.transpose()\n",
    "    if sort_index:\n",
    "        formated_df = formated_df.sort_index()\n",
    "\n",
    "\n",
    "    for column in formated_df.columns:\n",
    "        if 'Files' in column:\n",
    "            total_files = total_android_files if 'Android' in column else total_ios_files\n",
    "            formated_df[column] = formated_df[column].apply(lambda x: f\"{x:,} ({(x / total_files * 100):.2f}%)\")\n",
    "        elif 'Apps' in column:\n",
    "            if android_apps ==0:\n",
    "                total_apps = 10332\n",
    "                formated_df[column] = formated_df[column].apply(lambda x: f\"{x:,} ({(x / total_apps * 100):.2f}%)\")\n",
    "            else:\n",
    "                formated_df[column] = formated_df[column].apply(lambda x: f\"{x:,} ({(x / android_apps if 'Android' in column else ios_apps  * 100):.2f}%)\")\n",
    "        elif 'Size' in column:\n",
    "            total_size = total_android_app_size if 'Android' in column else total_ios_app_size\n",
    "            formated_df[column] = formated_df[column].apply(lambda x: f\"{x/1000000:,} ({(x / total_size * 100):.2f}%)\")\n",
    "    return formated_df\n"
   ]
  },
  {
   "cell_type": "code",
   "execution_count": null,
   "metadata": {},
   "outputs": [],
   "source": [
    "df_suffix, df_suffix_detail = get_suffix_stat_table()"
   ]
  },
  {
   "cell_type": "code",
   "execution_count": null,
   "metadata": {},
   "outputs": [],
   "source": [
    "df_all = df_suffix"
   ]
  },
  {
   "cell_type": "code",
   "execution_count": null,
   "metadata": {},
   "outputs": [],
   "source": [
    "df_all"
   ]
  },
  {
   "cell_type": "code",
   "execution_count": null,
   "metadata": {},
   "outputs": [],
   "source": [
    "format_data_frame(df_all)"
   ]
  },
  {
   "cell_type": "code",
   "execution_count": null,
   "metadata": {},
   "outputs": [],
   "source": [
    "format_data_frame(df_suffix_detail, sort_index=False).to_csv(os.path.join(output_dir, \"suffix_detail.csv\"))"
   ]
  },
  {
   "cell_type": "code",
   "execution_count": null,
   "metadata": {},
   "outputs": [],
   "source": [
    "format_data_frame(df_all, sort_index=False).to_csv(os.path.join(output_dir, \"suffix.csv\"))"
   ]
  },
  {
   "cell_type": "code",
   "execution_count": null,
   "metadata": {},
   "outputs": [],
   "source": [
    "full_suffix_table = get_all_suffix_table()"
   ]
  },
  {
   "cell_type": "code",
   "execution_count": null,
   "metadata": {},
   "outputs": [],
   "source": [
    "format_data_frame(full_suffix_table).to_csv(os.path.join(output_dir, \"full_suffix_table.csv\"))"
   ]
  },
  {
   "cell_type": "code",
   "execution_count": null,
   "metadata": {},
   "outputs": [],
   "source": [
    "print(format_data_frame(df_all).to_latex())"
   ]
  },
  {
   "cell_type": "code",
   "execution_count": null,
   "metadata": {},
   "outputs": [],
   "source": [
    "def fetch_all_from_queries(query, duckdb_conn = duckdb_conn_2023):\n",
    "    return duckdb_conn.execute(query).fetchall()"
   ]
  },
  {
   "cell_type": "code",
   "execution_count": null,
   "metadata": {},
   "outputs": [],
   "source": [
    "archive_public_suffix = fetch_all_from_queries(\"SELECT distinct(apps.id, apps.platform) from apps join files on apps.id = files.app_id where files.file_name = 'publicsuffixes.gz'\")\n",
    "text_multidexversion = fetch_all_from_queries(\"SELECT distinct(apps.id, apps.platform) from apps join files on apps.id = files.app_id where files.file_name = 'androidsupportmultidexversion.txt'\")\n"
   ]
  },
  {
   "cell_type": "code",
   "execution_count": null,
   "metadata": {},
   "outputs": [],
   "source": [
    "def get_stats(results):\n",
    "    ios = set()\n",
    "    android = set()\n",
    "    for result in results:\n",
    "        result = result[0]\n",
    "        if result[1] == \"android\":\n",
    "            android.add(result[0])\n",
    "        else:\n",
    "            ios.add(result[0])\n",
    "    print(f\"Android: {get_formated(len(android), num_android_apps)}\")\n",
    "    print(f\"iOS: {get_formated(len(ios), num_ios_apps)}\")"
   ]
  },
  {
   "cell_type": "code",
   "execution_count": null,
   "metadata": {},
   "outputs": [],
   "source": [
    "get_stats(archive_public_suffix)\n",
    "get_stats(text_multidexversion)"
   ]
  },
  {
   "cell_type": "code",
   "execution_count": null,
   "metadata": {},
   "outputs": [],
   "source": [
    "# https://github.com/dyne/file-extension-list\n",
    "# https://github.com/jddinneen/file-extension-categoriser\n",
    "count = 0\n",
    "for k,v in suffix_classes.all_types.items():\n",
    "    count += len(v)\n",
    "\n",
    "print(count)\n",
    "print(len(suffix_classes.all_types))"
   ]
  },
  {
   "cell_type": "code",
   "execution_count": null,
   "metadata": {},
   "outputs": [],
   "source": [
    "ios_exe = fetch_all_from_queries(\"SELECT DISTINCT apps.id, apps.app_name, apps.platform FROM files join apps on files.app_id = apps.id where file_name like '%.exe' and apps.platform = 'ios'\")\n",
    "print(\"ios exe\", get_formated(len(ios_exe), num_ios_apps))\n",
    "ios_dll = fetch_all_from_queries(\"SELECT DISTINCT apps.id, apps.app_name, apps.platform FROM files join apps on files.app_id = apps.id where file_name like '%.dll' and apps.platform = 'ios'\")\n",
    "print(\"ios dll\", get_formated(len(ios_dll), num_ios_apps))\n",
    "ios_dll_and_exe = fetch_all_from_queries(\"SELECT DISTINCT apps.id, apps.app_name, apps.platform FROM files join apps on files.app_id = apps.id where (file_name like '%.dll' or file_name like '%.exe') and apps.platform = 'ios'\")\n",
    "print(\"ios dll and exe\", get_formated(len(ios_dll_and_exe), num_ios_apps))\n",
    "\n",
    "android_exe = fetch_all_from_queries(\"SELECT DISTINCT apps.id, apps.app_name, apps.platform FROM files join apps on files.app_id = apps.id where file_name like '%.exe' and apps.platform = 'android'\")\n",
    "android_dll = fetch_all_from_queries(\"SELECT DISTINCT apps.id, apps.app_name, apps.platform FROM files join apps on files.app_id = apps.id where file_name like '%.dll' and apps.platform = 'android'\")\n",
    "android_exe_dll = fetch_all_from_queries(\"SELECT DISTINCT apps.id, apps.app_name, apps.platform FROM files join apps on files.app_id = apps.id where (file_name like '%.dll' or file_name like '%.exe') and apps.platform = 'android'\")\n",
    "print(\"android exe\", get_formated(len(android_exe), num_android_apps))\n",
    "print(\"android dll\", get_formated(len(android_dll), num_android_apps))\n",
    "print(\"android exe and dll\", get_formated(len(android_exe_dll), num_android_apps))\n",
    "\n",
    "\n",
    "both_exe = fetch_all_from_queries(\"SELECT DISTINCT apps.id, apps.app_name, apps.platform FROM files join apps on files.app_id = apps.id where file_name like '%.exe' \")\n",
    "both_dll = fetch_all_from_queries(\"SELECT DISTINCT apps.id, apps.app_name, apps.platform FROM files join apps on files.app_id = apps.id where file_name like '%.dll' \")\n",
    "both_exe_dll = fetch_all_from_queries(\"SELECT DISTINCT apps.id, apps.app_name, apps.platform FROM files join apps on files.app_id = apps.id where (file_name like '%.dll' or file_name like '%.exe')\")\n",
    "print(\"both exe\", get_formated(len(both_exe), num_apps))\n",
    "print(\"both dll\", get_formated(len(both_dll), num_apps))\n",
    "print(\"both exe and dll\", get_formated(len(both_exe_dll), num_apps))\n",
    "\n",
    "\n",
    "\n",
    "\n"
   ]
  },
  {
   "cell_type": "code",
   "execution_count": null,
   "metadata": {},
   "outputs": [],
   "source": [
    "aspx = fetch_all_from_queries(\"SELECT DISTINCT apps.id, apps.app_name, apps.platform FROM files join apps on files.app_id = apps.id where file_name like '%.aspx' \")\n",
    "print(\"aspx\", get_formated(len(aspx), num_apps))\n",
    "aspx_android = fetch_all_from_queries(\"SELECT DISTINCT apps.id, apps.app_name, apps.platform FROM files join apps on files.app_id = apps.id where file_name like '%.aspx' and apps.platform = 'android'\")\n",
    "print(\"aspx android\", get_formated(len(aspx_android), num_android_apps))\n",
    "aspx_ios = fetch_all_from_queries(\"SELECT DISTINCT apps.id, apps.app_name, apps.platform FROM files join apps on files.app_id = apps.id where file_name like '%.aspx' and apps.platform = 'ios'\")\n",
    "print(\"aspx ios\", get_formated(len(aspx_ios), num_ios_apps))"
   ]
  },
  {
   "cell_type": "code",
   "execution_count": null,
   "metadata": {},
   "outputs": [],
   "source": [
    "exe_without_xarmin = fetch_all_from_queries(\"SELECT DISTINCT apps.id, apps.app_name, apps.platform FROM files join apps on files.app_id = apps.id where (file_name like '%.exe') and apps.id NOT IN (SELECT DISTINCT apps.id FROM files join apps on files.app_id = apps.id where file_name = 'Xamarin.Essentials.dll' or file_name like '%Xamarin%' or file_name like '%xarmin%' )\")\n",
    "dll_without_xarmin = fetch_all_from_queries(\"SELECT DISTINCT apps.id, apps.app_name, apps.platform FROM files join apps on files.app_id = apps.id where (file_name like '%.dll') and apps.id NOT IN (SELECT DISTINCT apps.id FROM files join apps on files.app_id = apps.id where file_name = 'Xamarin.Essentials.dll' or file_name like '%Xamarin%' or file_name like '%xarmin%'  )\")\n",
    "\n",
    "\n",
    "dll_and_exe_without_xarmin = fetch_all_from_queries(\"SELECT DISTINCT apps.id, apps.app_name, apps.platform FROM files join apps on files.app_id = apps.id where (file_name like '%.dll' or file_name like '%.exe') and apps.id NOT IN (SELECT DISTINCT apps.id FROM files join apps on files.app_id = apps.id where file_name = 'Xamarin.Essentials.dll' or file_name like '%Xamarin%' or file_name like '%xarmin%' )\")\n",
    "\n"
   ]
  },
  {
   "cell_type": "code",
   "execution_count": null,
   "metadata": {},
   "outputs": [],
   "source": [
    "print(get_formated(len(exe_without_xarmin), num_apps))\n",
    "print(get_formated(len(dll_without_xarmin), num_apps))\n",
    "print(get_formated(  len(dll_and_exe_without_xarmin), num_apps))\n",
    "\n",
    "print(get_formated( len( both_exe_dll) - len(dll_and_exe_without_xarmin), num_apps))\n"
   ]
  },
  {
   "cell_type": "code",
   "execution_count": null,
   "metadata": {},
   "outputs": [],
   "source": [
    "all_ios_on_android = fetch_all_from_queries(\"SELECT distinct apps.app_name FROM files JOIN apps ON files.app_id = apps.id WHERE apps.platform = 'android' AND (mime_type = 'application/x-mach-binary') ORDER BY apps.app_name;\")\n",
    "\n",
    "\n",
    "print(\"all ios on android\", get_formated(len(all_ios_on_android), num_android_apps))"
   ]
  },
  {
   "cell_type": "code",
   "execution_count": null,
   "metadata": {},
   "outputs": [],
   "source": [
    "all_ios_on_android = fetch_all_from_queries(\"SELECT distinct apps.app_name FROM files JOIN apps ON files.app_id = apps.id WHERE apps.platform = 'android' AND (mime_type = 'application/x-mach-binary') ORDER BY apps.app_name;\", duckdb_conn=duckdb_conn_2024)\n",
    "\n",
    "\n",
    "print(\"all ios on android\", get_formated(len(all_ios_on_android), num_android_apps))"
   ]
  },
  {
   "cell_type": "code",
   "execution_count": null,
   "metadata": {},
   "outputs": [],
   "source": [
    "jar_dex_apk_in_ios = fetch_all_from_queries(\"SELECT distinct apps.app_name FROM files JOIN apps ON files.app_id = apps.id WHERE apps.platform = 'ios' AND (files.suffix = '.jar' or files.suffix = '.apk' or files.suffix = '.dex') and apps.id not in (SELECT distinct files.app_id from files where files.file_name like '%robovm%' or files.file_name like '%adapter-mediation%' or files.file_name = 'application.jar') ORDER BY apps.app_name;\")\n",
    "\n",
    "\n",
    "total = fetch_all_from_queries(\"SELECT distinct apps.app_name FROM files JOIN apps ON files.app_id = apps.id WHERE apps.platform = 'ios' AND (files.suffix = '.jar' or files.suffix = '.apk' or files.suffix = '.dex') ORDER BY apps.app_name;\")\n",
    "\n",
    "jar_in_ios = fetch_all_from_queries(\"SELECT distinct apps.app_name FROM files JOIN apps ON files.app_id = apps.id WHERE apps.platform = 'ios' AND (files.suffix = '.jar') ORDER BY apps.app_name;\")\n",
    "dex_in_ios = fetch_all_from_queries(\"SELECT distinct apps.app_name FROM files JOIN apps ON files.app_id = apps.id WHERE apps.platform = 'ios' AND (files.suffix = '.dex') ORDER BY apps.app_name;\")\n",
    "apk_in_ios = fetch_all_from_queries(\"SELECT distinct apps.app_name FROM files JOIN apps ON files.app_id = apps.id WHERE apps.platform = 'ios' AND (files.suffix = '.apk') ORDER BY apps.app_name;\")\n",
    "print(\"jar in ios\", get_formated(len(jar_in_ios), num_ios_apps))\n",
    "print(\"dex in ios\", get_formated(len(dex_in_ios), num_ios_apps))\n",
    "print(\"apk in ios\", get_formated(len(apk_in_ios), num_ios_apps))\n",
    "print(\"total\", get_formated(len(total), num_ios_apps))\n",
    "\n"
   ]
  },
  {
   "cell_type": "code",
   "execution_count": null,
   "metadata": {},
   "outputs": [],
   "source": [
    "number_robovm_and_gdx = fetch_all_from_queries(\"SELECT distinct files.app_id from files where files.file_name like '%robovm%' or files.file_name like '%adapter-mediation%' or files.file_name = 'application.jar'\")\n",
    "\n",
    "print(\"all compiled java without robovm and gdx in ios\", get_formated(len(jar_dex_apk_in_ios), num_ios_apps))\n",
    "print(\"robovm and gdx in ios\", get_formated(len(number_robovm_and_gdx), num_ios_apps))\n",
    "len(total) - len(jar_dex_apk_in_ios)\n"
   ]
  },
  {
   "cell_type": "code",
   "execution_count": null,
   "metadata": {},
   "outputs": [],
   "source": [
    "review_remaining = \"SELECT distinct apps.app_name, files.file_path FROM files JOIN apps ON files.app_id = apps.id WHERE apps.platform = 'ios' AND (files.suffix = '.jar' or files.suffix = '.apk' or files.suffix = '.dex') and files.app_id not in (SELECT distinct files.app_id from files where files.file_name like '%robovm%' or files.file_name like '%adapter-mediation%' or files.file_name = 'application.jar') ORDER BY apps.app_name;\""
   ]
  },
  {
   "cell_type": "code",
   "execution_count": null,
   "metadata": {},
   "outputs": [],
   "source": [
    "limit = 10\n",
    "code_suffix = [\".kt\", \".java\", \".swift\", \".c\", \".cpp\", \".go\", \".m\"]\n",
    "script_suffix = [\".sh\", \".lua\", \".py\", \".ms\", \".pyc\", \".vs\", \".ps1\", \".bash\"]\n",
    "\n",
    "def only_platform(result, platform):\n",
    "    \"\"\"\n",
    "    Filters results to include only entries for the specified platform.\n",
    "\n",
    "    Args:\n",
    "        result (list): List of tuples, where the second element is the platform.\n",
    "        platform (str): Platform to filter by ('android' or 'ios').\n",
    "\n",
    "    Returns:\n",
    "        list: Filtered list containing only entries for the specified platform.\n",
    "    \"\"\"\n",
    "    return [x for x in result if x[1] == platform]\n",
    "\n",
    "def matching(result):\n",
    "    \"\"\"\n",
    "    Finds apps present on both Android and iOS platforms.\n",
    "\n",
    "    Args:\n",
    "        result (list): List of tuples, where the first element is app_id and the second is platform.\n",
    "\n",
    "    Returns:\n",
    "        list: List of app_ids present on both platforms.\n",
    "    \"\"\"\n",
    "    # matching_ids must be defined elsewhere in the notebook\n",
    "    android = set()\n",
    "    ios = set()\n",
    "    for x in result:\n",
    "        if x[1] == \"android\":\n",
    "            android.add(x[0])\n",
    "        else:\n",
    "            ios.add(x[0])\n",
    "\n",
    "    matching_apps = set()\n",
    "    for app in ios:\n",
    "        if matching_ids[app] in android:\n",
    "            matching_apps.add(app)\n",
    "    return list(matching_apps)\n",
    "\n",
    "def get_code_stats(result_dict):\n",
    "    \"\"\"\n",
    "    Prints statistics for code-related files per platform and overall.\n",
    "\n",
    "    Args:\n",
    "        result_dict (dict): Dictionary mapping suffix to list of (app_name, platform) tuples.\n",
    "    \"\"\"\n",
    "    total = set()\n",
    "    for key, value in result_dict.items():\n",
    "        print(f\"{key} Both: {get_formated(len(matching(value)), num_android_apps)}\")\n",
    "        print(f\"{key} Android: {get_formated(len(only_platform(value, 'android')), num_android_apps)}\")\n",
    "        print(f\"{key} iOS: {get_formated(len(only_platform(value, 'ios')), num_ios_apps)}\")\n",
    "        print(f\"{key}: {get_formated(len(value) - len(matching(value)), num_apps)}\")\n",
    "\n",
    "        for v in value:\n",
    "            total.add(v)\n",
    "    print(f\"{key} Both: {get_formated(len(matching(total)), num_android_apps)}\")\n",
    "    print(f\"Total Android: {get_formated(len(only_platform(total, 'android')), num_android_apps)}\")\n",
    "    print(f\"Total iOS: {get_formated(len(only_platform(total, 'ios')), num_ios_apps)}\")\n",
    "    print(f\"Total: {get_formated(len(total) - len(matching(total)), num_apps)}\")\n",
    "\n",
    "def get_apps_with_code(code_suffix, limit = 10, limit_2 = 3, with_files = False, duckdb_conn = duckdb_conn_2023):\n",
    "    \"\"\"\n",
    "    Retrieves apps containing code files with specific suffixes.\n",
    "\n",
    "    Args:\n",
    "        code_suffix (list): List of code file suffixes to search for.\n",
    "        limit (int): Minimum number of files per app to include.\n",
    "        limit_2 (int): Maximum number of duplicate file names allowed.\n",
    "        with_files (bool): If True, include file paths in the result.\n",
    "        duckdb_conn: DuckDB connection object.\n",
    "\n",
    "    Returns:\n",
    "        dict: Mapping from suffix to list of (app_name, platform[, file_path]) tuples.\n",
    "    \"\"\"\n",
    "    result = {}\n",
    "    select_part = \"SELECT DISTINCT app_name, platform\"\n",
    "    if with_files:\n",
    "        select_part = select_part + \", file_path\"\n",
    "    for code in code_suffix:\n",
    "        base_query = (\n",
    "            f\"{select_part} FROM files join apps on files.app_id = apps.id \"\n",
    "            f\"where suffix = '{code}' and app_id in (\"\n",
    "            f\"SELECT app_id FROM files WHERE suffix = '{code}' \"\n",
    "            f\"and file_path not like '%META-INF%' and file_path not like '%javax%' \"\n",
    "            f\"and file_path not like '%androidx%' and mime_type like 'text%' \"\n",
    "            f\"and file_name in (SELECT file_name FROM files WHERE suffix = '{code}' \"\n",
    "            f\"and mime_type like 'text%' GROUP By file_name HAVING count(*) < {limit_2}) \"\n",
    "            f\"GROUP By app_id HAVING count(*) > {limit});\"\n",
    "        )\n",
    "        result[code] = duckdb_conn.sql(base_query).fetchall()\n",
    "    return result\n",
    "\n",
    "def get_apps_with_scripts(script_suffix, limit = 3, with_files = False, duckdb_conn = duckdb_conn_2023):\n",
    "    \"\"\"\n",
    "    Retrieves apps containing script files with specific suffixes.\n",
    "\n",
    "    Args:\n",
    "        script_suffix (list): List of script file suffixes to search for.\n",
    "        limit (int): Maximum number of duplicate file names allowed.\n",
    "        with_files (bool): If True, include file paths in the result.\n",
    "        duckdb_conn: DuckDB connection object.\n",
    "\n",
    "    Returns:\n",
    "        dict: Mapping from suffix to list of (app_name, platform[, file_path]) tuples.\n",
    "    \"\"\"\n",
    "    result = {}\n",
    "    select_part = \"SELECT DISTINCT app_name, platform\"\n",
    "    if with_files:\n",
    "        select_part = select_part + \", file_path\"\n",
    "    for code in script_suffix:\n",
    "        base_query = (\n",
    "            f\"{select_part} FROM files join apps on files.app_id = apps.id \"\n",
    "            f\"where suffix = '{code}' and file_name in (\"\n",
    "            f\"SELECT file_name FROM files WHERE suffix = '{code}' \"\n",
    "            f\"and mime_type like 'text%' GROUP By file_name HAVING count(*) < {limit});\"\n",
    "        )\n",
    "        result[code] = duckdb_conn.sql(base_query).fetchall()\n",
    "    return result\n"
   ]
  },
  {
   "cell_type": "code",
   "execution_count": null,
   "metadata": {},
   "outputs": [],
   "source": [
    "code_stats = get_apps_with_code(code_suffix)\n",
    "script_stats = get_apps_with_scripts(script_suffix)\n",
    "\n"
   ]
  },
  {
   "cell_type": "code",
   "execution_count": null,
   "metadata": {},
   "outputs": [],
   "source": [
    "get_code_stats(code_stats)\n",
    "get_code_stats(script_stats)\n"
   ]
  },
  {
   "cell_type": "code",
   "execution_count": null,
   "metadata": {},
   "outputs": [],
   "source": [
    "get_apps_with_code(code_suffix, with_files=True)\n"
   ]
  },
  {
   "cell_type": "code",
   "execution_count": null,
   "metadata": {
    "vscode": {
     "languageId": "xml"
    }
   },
   "outputs": [],
   "source": [
    "swiftpm = fetch_all_from_queries(\"SELECT DISTINCT app_name, platform FROM files join apps on files.app_id = apps.id where files.file_path like '%/.swiftpm/%';\")\n",
    "spm_versions = fetch_all_from_queries(\"SELECT DISTINCT app_name, platform FROM files join apps on files.app_id = apps.id where files.file_name = 'spm_versions.json';\")\n",
    "podfile = fetch_all_from_queries(\"SELECT DISTINCT app_name, platform FROM files join apps on files.app_id = apps.id where files.file_name like 'Podfile%';\")\n",
    "package_swift = fetch_all_from_queries(\"SELECT DISTINCT app_name, platform FROM files join apps on files.app_id = apps.id where files.file_name = 'Package.swift';\")\n",
    "\n"
   ]
  },
  {
   "cell_type": "code",
   "execution_count": null,
   "metadata": {
    "vscode": {
     "languageId": "xml"
    }
   },
   "outputs": [],
   "source": [
    "code_stats[\"swiftpm\"] = swiftpm\n",
    "code_stats[\"spm_versions\"] = spm_versions\n",
    "code_stats[\"podfile\"] = podfile\n",
    "code_stats[\"package_swift\"] = package_swift"
   ]
  },
  {
   "cell_type": "code",
   "execution_count": null,
   "metadata": {
    "vscode": {
     "languageId": "xml"
    }
   },
   "outputs": [],
   "source": [
    "get_code_stats({\"podfile\": podfile, \".swift\": code_stats[\".swift\"]})"
   ]
  },
  {
   "cell_type": "code",
   "execution_count": null,
   "metadata": {
    "vscode": {
     "languageId": "xml"
    }
   },
   "outputs": [],
   "source": [
    "get_code_stats({\"swiftpm\": swiftpm, \".swift\": code_stats[\".swift\"]})"
   ]
  },
  {
   "cell_type": "code",
   "execution_count": null,
   "metadata": {
    "vscode": {
     "languageId": "xml"
    }
   },
   "outputs": [],
   "source": [
    "get_code_stats({\"swiftpm\": swiftpm, \"spm_versions\": spm_versions, \"package_swift\": package_swift, \".swift\": code_stats[\".swift\"]})"
   ]
  },
  {
   "cell_type": "code",
   "execution_count": null,
   "metadata": {},
   "outputs": [],
   "source": [
    "def get_compiled_lua(limit = 3):\n",
    "    query = f\"SELECT DISTINCT app_name, platform FROM files join apps on files.app_id = apps.id where (suffix = '.lua' or suffix = '.luac') and file_name in (SELECT file_name  FROM files WHERE (suffix = '.lua' or suffix = '.luac') and mime_type like 'application%' GROUP By file_name HAVING count(*) < {limit});\"\n",
    "    result = fetch_all_from_queries(query)\n",
    "    return {\"lua-c\": result}\n",
    "\n",
    "luac = get_compiled_lua()"
   ]
  },
  {
   "cell_type": "code",
   "execution_count": null,
   "metadata": {},
   "outputs": [],
   "source": [
    "get_code_stats(luac)"
   ]
  },
  {
   "cell_type": "code",
   "execution_count": null,
   "metadata": {},
   "outputs": [],
   "source": [
    "java_kotlin_swift_files = \"SELECT distinct apps.app_name, apps.platform, files.suffix, files.file_name FROM files JOIN apps ON files.app_id = apps.id WHERE  (files.suffix = '.php' or files.suffix = '.vue' or files.suffix = '.ts') ORDER BY apps.app_name;\"\n",
    "\n",
    "for item in fetch_all_from_queries(java_kotlin_swift_files):\n",
    "    print(item)"
   ]
  },
  {
   "cell_type": "code",
   "execution_count": null,
   "metadata": {},
   "outputs": [],
   "source": [
    "java_kotlin_swift_files = \"SELECT distinct apps.app_name, apps.platform, files.suffix, files.file_name FROM files JOIN apps ON files.app_id = apps.id WHERE  (files.suffix = '.sh') ORDER BY apps.app_name;\"\n",
    "\n",
    "for item in fetch_all_from_queries(java_kotlin_swift_files):\n",
    "    print(item)"
   ]
  },
  {
   "cell_type": "code",
   "execution_count": null,
   "metadata": {},
   "outputs": [],
   "source": [
    "def get_full_stats(results, len_android = 0, len_ios = 0):\n",
    "    android = set()\n",
    "    ios = set()\n",
    "    for result in results:\n",
    "        if result[1] == \"android\":\n",
    "            android.add(result[0])\n",
    "        else:\n",
    "            ios.add(result[0])\n",
    "    if len_android == 0:\n",
    "        len_android = num_android_apps\n",
    "    if len_ios == 0:\n",
    "        len_ios = num_ios_apps\n",
    "    print(f\"Android: {get_formated(len(android), num_android_apps)}\")\n",
    "    print(f\"iOS: {get_formated(len(ios), num_ios_apps)}\")\n",
    "    print(f\"Total: {get_formated(len(android) + len(ios), num_apps)}\")"
   ]
  },
  {
   "cell_type": "code",
   "execution_count": null,
   "metadata": {},
   "outputs": [],
   "source": [
    "import os\n",
    "all_markdown = \"SELECT distinct apps.app_name, apps.platform, files.suffix, files.file_name, files.file_path FROM files JOIN apps ON files.app_id = apps.id WHERE  (files.suffix = '.md' or files.suffix = '.mdown') ORDER BY apps.app_name;\"\n",
    "\n",
    "def get_markdown_stats(duckdb_conn = duckdb_conn_2023):\n",
    "\n",
    "    all_markdown_in_node_modules = \"SELECT distinct apps.app_name, apps.platform FROM files JOIN apps ON files.app_id = apps.id WHERE  (files.suffix = '.md' or files.suffix = '.mdown') and files.file_path like '%node_modules%' ORDER BY apps.app_name;\"\n",
    "\n",
    "    all_markdown_in_node_modules = fetch_all_from_queries(all_markdown_in_node_modules, duckdb_conn = duckdb_conn)\n",
    "\n",
    "    third_party = set()\n",
    "    potential_added_information = set()\n",
    "    styling = set()\n",
    "\n",
    "\n",
    "    for item in fetch_all_from_queries(all_markdown):\n",
    "        if \"cordova\" in item[4].lower() or \"node_modules\" in item[4].lower() or \"frameworks\" in item[4].lower() or \"www\" in item[4].lower() or \"meta-inf\" in item[4].lower():\n",
    "            third_party.add(( item[0], item[1]) ) # , item[3],item[4]\n",
    "            continue\n",
    "\n",
    "        dirname = os.path.dirname(item[4]).split(\"/\")[-1]\n",
    "        if \".app\" in dirname or dirname == \"android\" or dirname.endswith(\".android\") or dirname.endswith(\"_android\"):\n",
    "            # Top level directory\n",
    "            potential_added_information.add((item[0], item[1])) # , item[3],item[4]) )\n",
    "            continue\n",
    "\n",
    "        if \"readme\" in item[3].lower() or \"changelog\" in item[3].lower() or \"contributing\" in item[3].lower() or \"acknowledge\" in item[3].lower() or \"license\" in item[3].lower() or \"history\" in item[3].lower() or \"releasenotes\" in item[3].lower():\n",
    "            third_party.add((item[0], item[1])) # , item[3],item[4]) )\n",
    "            continue\n",
    "        \n",
    "        styling.add((item[0], item[1])) #, item[3],item[4]) )\n",
    "\n",
    "    return third_party, potential_added_information, styling, all_markdown_in_node_modules\n",
    "\n",
    "\n"
   ]
  },
  {
   "cell_type": "code",
   "execution_count": null,
   "metadata": {},
   "outputs": [],
   "source": [
    "third_party, potential_added_information, styling, all_markdown_in_node_modules =  get_markdown_stats()"
   ]
  },
  {
   "cell_type": "code",
   "execution_count": null,
   "metadata": {},
   "outputs": [],
   "source": [
    "third_party_24, potential_added_information_24, styling_24, all_markdown_in_node_modules_24 =  get_markdown_stats(duckdb_conn=duckdb_conn_2024)"
   ]
  },
  {
   "cell_type": "code",
   "execution_count": null,
   "metadata": {},
   "outputs": [],
   "source": [
    "all = set()\n",
    "for item in styling:\n",
    "    all.add(item)\n",
    "for item in potential_added_information:\n",
    "    all.add(item)"
   ]
  },
  {
   "cell_type": "code",
   "execution_count": null,
   "metadata": {},
   "outputs": [],
   "source": [
    "print(all)"
   ]
  },
  {
   "cell_type": "code",
   "execution_count": null,
   "metadata": {},
   "outputs": [],
   "source": [
    "print(\"third party\", get_formated(len(third_party), num_apps))\n",
    "get_full_stats(third_party)\n",
    "print(\"styling\", get_formated(len(styling), num_apps))\n",
    "get_full_stats(styling)\n",
    "print(\"node modules\", get_formated(len(all_markdown_in_node_modules), num_apps))\n",
    "get_full_stats(all_markdown_in_node_modules)\n"
   ]
  },
  {
   "cell_type": "code",
   "execution_count": null,
   "metadata": {},
   "outputs": [],
   "source": [
    "all_md = fetch_all_from_queries(all_markdown)\n"
   ]
  },
  {
   "cell_type": "code",
   "execution_count": null,
   "metadata": {},
   "outputs": [],
   "source": [
    "get_full_stats(all_md)"
   ]
  },
  {
   "cell_type": "code",
   "execution_count": null,
   "metadata": {},
   "outputs": [],
   "source": [
    "print(\"2024\")\n",
    "print(\"third party\", get_formated(len(third_party_24), num_apps))\n",
    "get_full_stats(third_party_24, len_ios=9212, len_android=8702)\n",
    "print(\"styling\", get_formated(len(styling_24), num_apps))\n",
    "get_full_stats(styling_24, len_ios=9212, len_android=8702)\n",
    "print(\"node modules\", get_formated(len(all_markdown_in_node_modules_24), num_apps))\n",
    "get_full_stats(all_markdown_in_node_modules_24, len_ios=9212, len_android=8702)\n",
    "all_md = fetch_all_from_queries(all_markdown, duckdb_conn=duckdb_conn_2024)\n",
    "\n",
    "print(get_full_stats(all_md, len_ios=9212, len_android=8702))"
   ]
  },
  {
   "cell_type": "code",
   "execution_count": null,
   "metadata": {},
   "outputs": [],
   "source": [
    "get_full_stats(potential_added_information.union(styling))\n",
    "get_full_stats(potential_added_information.union(third_party).union(styling))"
   ]
  },
  {
   "cell_type": "code",
   "execution_count": null,
   "metadata": {},
   "outputs": [],
   "source": [
    "print(potential_added_information)"
   ]
  },
  {
   "cell_type": "code",
   "execution_count": null,
   "metadata": {},
   "outputs": [],
   "source": [
    "# AI - related\n",
    "get_mlkit_count = \"SELECT COUNT(apps.id) FROM apps join files on apps.id = files.app_id WHERE files.suffix = '.tflite' and files.file_path like '%/mlkit_barcode_models/%' ORDER BY platform, file_name;\""
   ]
  },
  {
   "cell_type": "code",
   "execution_count": null,
   "metadata": {},
   "outputs": [],
   "source": [
    "format_data_frame(get_df_for_dot_results(get_hidden_files(), \"dot_files\"))\n"
   ]
  },
  {
   "cell_type": "code",
   "execution_count": null,
   "metadata": {},
   "outputs": [],
   "source": [
    "format_data_frame(get_df_for_dot_results(get_hidden_directory_stats(), \"dot_directories\"))"
   ]
  },
  {
   "cell_type": "code",
   "execution_count": null,
   "metadata": {},
   "outputs": [],
   "source": [
    "format_data_frame(get_df_for_dot_results(get_hidden_files_filtered(), \"dot_files_filtered\"))\n"
   ]
  },
  {
   "cell_type": "code",
   "execution_count": null,
   "metadata": {},
   "outputs": [],
   "source": [
    "def get_count_table(data, base_value=0):\n",
    "    result = {}\n",
    "    result_android = {}\n",
    "    result_ios = {}\n",
    "    for item in data:\n",
    "        result[item[3]] = result.get(item[3], 0) + 1\n",
    "        if item[1] == \"android\":\n",
    "            result_android[item[3]] = result_android.get(item[3], 0) + 1\n",
    "            result_ios[item[3]] = result_ios.get(item[3], 0)\n",
    "        else:\n",
    "            result_ios[item[3]] = result_ios.get(item[3], 0) + 1\n",
    "            result_android[item[3]] = result_android.get(item[3], 0)\n",
    "\n",
    "    print(result_android)\n",
    "    print(result_ios)\n",
    "\n",
    "\n",
    "    if base_value > 0:\n",
    "        for k,v in result.items():\n",
    "            result[k] = f\"{v:,} ({(v / base_value * 100):.2f}%)\"\n",
    "            result_android[k] = f\"{result_android[k]:,} ({(result_android[k] / num_android_apps * 100):.2f}%)\"\n",
    "            result_ios[k] = f\"{result_ios[k]:,} ({(result_ios[k] / num_ios_apps * 100):.2f}%)\"\n",
    "\n",
    "\n",
    "\n",
    "    df = pd.DataFrame.from_dict(result, orient='index', columns=['occurrences']).sort_values(by='occurrences', ascending=False)\n",
    "    df['android'] = pd.Series(result_android)\n",
    "    df['ios'] = pd.Series(result_ios)\n",
    "    return df\n",
    "\n",
    "\n",
    "def get_count_table_apps(data, base_value=0):\n",
    "    result = {}\n",
    "    result_android = {}\n",
    "    result_ios = {}\n",
    "    for item in data:\n",
    "        current = result.get(item[3], set())\n",
    "        current.add(item[0])\n",
    "        result[item[3]] = current\n",
    "        if item[1] == \"android\":\n",
    "            current_android = result_android.get(item[3], set())\n",
    "            current_ios = result_ios.get(item[3], set())\n",
    "            current_android.add(item[0])\n",
    "            result_android[item[3]] = current_android\n",
    "            result_ios[item[3]] = current_ios\n",
    "        else:\n",
    "            current_android = result_android.get(item[3], set())\n",
    "            current_ios = result_ios.get(item[3], set())\n",
    "            current_ios.add(item[0])\n",
    "            result_android[item[3]] = current_android\n",
    "            result_ios[item[3]] = current_ios\n",
    "\n",
    "\n",
    "    for k in result.keys():\n",
    "        result[k] = len(result[k])\n",
    "        result_android[k] = len(result_android[k])\n",
    "        result_ios[k] = len(result_ios[k])\n",
    "\n",
    "    if base_value > 0:\n",
    "        for k,v in result.items():\n",
    "            result[k] = f\"{v:,} ({(v / base_value * 100):.2f}%)\"\n",
    "            result_android[k] = f\"{result_android[k]:,} ({(result_android[k] / num_android_apps * 100):.2f}%)\"\n",
    "            result_ios[k] = f\"{result_ios[k]:,} ({(result_ios[k] / num_ios_apps * 100):.2f}%)\"\n",
    "\n",
    "\n",
    "\n",
    "    df = pd.DataFrame.from_dict(result, orient='index', columns=['occurrences']).sort_values(by='occurrences', ascending=False)\n",
    "    df['android'] = pd.Series(result_android)\n",
    "    df['ios'] = pd.Series(result_ios)\n",
    "    return df\n",
    "    \n"
   ]
  },
  {
   "cell_type": "code",
   "execution_count": null,
   "metadata": {},
   "outputs": [],
   "source": [
    "hidden_files = get_hidden_files()\n",
    "hidden_directory_stat = get_hidden_directory_stats()\n"
   ]
  },
  {
   "cell_type": "code",
   "execution_count": null,
   "metadata": {},
   "outputs": [],
   "source": [
    "get_count_table(hidden_files[0],0 )"
   ]
  },
  {
   "cell_type": "code",
   "execution_count": null,
   "metadata": {},
   "outputs": [],
   "source": [
    "\n",
    "get_count_table_apps(hidden_files[0], 0)"
   ]
  },
  {
   "cell_type": "code",
   "execution_count": null,
   "metadata": {},
   "outputs": [],
   "source": [
    "def map_hidden_directory_to_directory_level(results):\n",
    "    filtered = {}\n",
    "    for item in results:\n",
    "        key = f\"{item[0]}-{item[1]}\"\n",
    "        def extract_hidden_dir(file_path):\n",
    "            splitted = file_path.split(\"/\")\n",
    "            result = splitted[0]\n",
    "            for i in range(1, len(splitted)):\n",
    "                result = result + \"/\" + splitted[i]\n",
    "                if splitted[i].startswith(\".\") and i != len(splitted) -1:\n",
    "                    return splitted[i]\n",
    "            return None\n",
    "        tmp = filtered.get(key, set())\n",
    "        tmp.add(extract_hidden_dir(item[4]))\n",
    "        filtered[key] = tmp\n",
    "    result = []\n",
    "    for k,v in filtered.items():\n",
    "        splitted = k.split(\"-\")\n",
    "        app = splitted[0]\n",
    "        platform = splitted[1]\n",
    "        for val in v:\n",
    "            result.append((app, platform,0, val)) # set to result[3] to reuse count table function\n",
    "\n",
    "    return result\n"
   ]
  },
  {
   "cell_type": "code",
   "execution_count": null,
   "metadata": {},
   "outputs": [],
   "source": [
    "query = \"\"\"\n",
    "SELECT apps.app_name, COUNT(files.suffix) \n",
    "FROM apps \n",
    "JOIN files ON apps.id = files.app_id \n",
    "WHERE files.suffix = '.swift' \n",
    "AND files.app_id IN (SELECT app_id FROM files WHERE file_path LIKE '%.swiftpm%') \n",
    "GROUP BY apps.app_name;\n",
    "\"\"\"\n",
    "\n",
    "result = fetch_all_from_queries(query)\n",
    "print(result)"
   ]
  },
  {
   "cell_type": "code",
   "execution_count": null,
   "metadata": {},
   "outputs": [],
   "source": [
    "get_count_table_apps(map_hidden_directory_to_directory_level(hidden_directory_stat[0]), num_android_apps + num_ios_apps)"
   ]
  },
  {
   "cell_type": "code",
   "execution_count": null,
   "metadata": {},
   "outputs": [],
   "source": [
    "# \n",
    "get_count_table(map_hidden_directory_to_directory_level(hidden_directory_stat[0]), num_android_apps + num_ios_apps)"
   ]
  },
  {
   "cell_type": "code",
   "execution_count": null,
   "metadata": {},
   "outputs": [],
   "source": [
    "src_folder = \"SELECT * FROM files join apps on files.app_id = apps.id where file_path like '%/src/%'\""
   ]
  },
  {
   "cell_type": "code",
   "execution_count": null,
   "metadata": {},
   "outputs": [],
   "source": [
    "def get_part(path, part):\n",
    "    splitted = path.split(\"/\")\n",
    "    for i in range(1, len(splitted)):\n",
    "        if part in splitted[i]:\n",
    "            return splitted[i]\n",
    "    return None\n",
    "\n",
    "def get_ml_model_name(item):\n",
    "    if \"model.espresso.weights\" in item[2]:\n",
    "        if \".framework\" in item[3]:\n",
    "            return get_part(item[3], \".framework\")\n",
    "        elif \".mlmodelc\" in item[3]:\n",
    "            return get_part(item[3], \".mlmodelc\")\n",
    "        elif \".bundle\" in item[3]:\n",
    "            return get_part(item[3], \".bundle\")\n",
    "        else:\n",
    "            return item[2]\n",
    "    return None\n",
    "    \n",
    "        \n",
    "            \n",
    "\n",
    "def get_all_ai_files():\n",
    "    query = \"SELECT apps.app_name, apps.platform, files.file_name, files.file_path FROM files JOIN apps ON files.app_id = apps.id WHERE apps.app_name = '' \" # pps.app_name = '' to make query easier -> False or ....\n",
    "    for suffix in suffix_classes.machine_learning:\n",
    "        query += f\"OR files.suffix = '{suffix}' \"\n",
    "    \n",
    "    return fetch_all_from_queries(query)\n",
    "\n",
    "\n",
    "    "
   ]
  },
  {
   "cell_type": "code",
   "execution_count": null,
   "metadata": {},
   "outputs": [],
   "source": [
    "def cluster_ai_files(ai_raw_data):\n",
    "    result = {}\n",
    "    for item in ai_raw_data:\n",
    "        model_name = get_ml_model_name(item)\n",
    "        if model_name is None:\n",
    "            model_name = item[2]\n",
    "\n",
    "        tmp = result.get(model_name, set())\n",
    "        tmp.add((item[0], item[1]))\n",
    "        result[model_name] = tmp\n",
    "    return result\n",
    "\n",
    "\n",
    "def filter_cluster_for_matching(result):\n",
    "    filtered = {}\n",
    "    for k,v in result.items():\n",
    "        tmp = set()\n",
    "        ignore = []\n",
    "        for value in v:\n",
    "            if value[1] == \"ios\":\n",
    "                match =  matching_ids.get(value[0], None)\n",
    "                if match and (match, \"android\") in v:\n",
    "                    tmp.add((value[0], \"both\"))\n",
    "                    ignore.append(value)\n",
    "                    ignore.append((match, \"android\"))\n",
    "        \n",
    "        for value in v:\n",
    "            if value not in ignore:\n",
    "                tmp.add(value)\n",
    "        filtered[k] = tmp\n",
    "\n",
    "                \n",
    "    return filtered\n",
    "\n",
    "def filter_cluster_size(result, size = 3):\n",
    "    filtered = {}\n",
    "    for k,v in result.items():\n",
    "        if len(v) < size:\n",
    "            filtered[k] = v\n",
    "    return filtered\n",
    "\n",
    "def invert_map(ai_map):\n",
    "    result = {}\n",
    "    for k,v in ai_map.items():\n",
    "        for value in v:\n",
    "            key = value[0] + \"-\" + value[1]\n",
    "            tmp = result.get(key, set())\n",
    "            tmp.add(k)\n",
    "            result[key] = tmp\n",
    "    return result"
   ]
  },
  {
   "cell_type": "code",
   "execution_count": null,
   "metadata": {},
   "outputs": [],
   "source": [
    "ai_files = get_all_ai_files()\n",
    "\n"
   ]
  },
  {
   "cell_type": "code",
   "execution_count": null,
   "metadata": {},
   "outputs": [],
   "source": [
    "filtered_matching_ai = filter_cluster_for_matching(cluster_ai_files(ai_files))"
   ]
  },
  {
   "cell_type": "code",
   "execution_count": null,
   "metadata": {},
   "outputs": [],
   "source": [
    "len(invert_map(filter_cluster_size(filtered_matching_ai, size=2)))"
   ]
  },
  {
   "cell_type": "code",
   "execution_count": null,
   "metadata": {},
   "outputs": [],
   "source": [
    "#import networkx as nx\n",
    "#import matplotlib.pyplot as plt\n",
    "#G = nx.Graph()\n",
    "\n",
    "# Add nodes and edges\n",
    "#for name, apps in filter_cluster_size(filtered_matching_ai).items():\n",
    "#    G.add_node(name, type='file')  # Add 'name' as a node\n",
    "#    for app in apps:\n",
    "#        G.add_node(app, type='app')  # Add 'app' as a node\n",
    "#        G.add_edge(name, app)  # Add an edge between name and app\n",
    "\n",
    "# Styling: Differentiate node types\n",
    "#node_colors = ['blue' if G.nodes[node]['type'] == 'file' else 'green' for node in G.nodes]\n",
    "\n",
    "# Draw the graph\n",
    "#plt.figure(figsize=(10, 8))\n",
    "#nx.draw(G, with_labels=True, node_color=node_colors, font_size=10, font_weight='bold')\n",
    "#plt.show()"
   ]
  },
  {
   "cell_type": "code",
   "execution_count": null,
   "metadata": {},
   "outputs": [],
   "source": [
    "cluster_ai_files(ai_files)\n",
    "sorted_ai_files = sorted(cluster_ai_files(ai_files).items(), key=lambda item: len(item[1]), reverse=True)\n",
    "for key, value in sorted_ai_files:\n",
    "    print(key, len(value))"
   ]
  },
  {
   "cell_type": "code",
   "execution_count": null,
   "metadata": {},
   "outputs": [],
   "source": [
    "def export(results, name = None, outputName = None, output_prefix = output_dir):\n",
    "    output = {}\n",
    "    output_path = os.path.join(output_prefix, outputName)\n",
    "    if name is None:\n",
    "        for k,v in results.items():\n",
    "            for value in v:\n",
    "                output[f\"{value[0]}_{value[1]}\"] = k\n",
    "    else:\n",
    "        for result in results:\n",
    "            output[f\"{result[0]}_{result[1]}\"] = name\n",
    "    if outputName is not None:\n",
    "        with open(outputName, \"w\") as f:\n",
    "            json.dump(output, f)\n",
    "    return output\n"
   ]
  },
  {
   "cell_type": "code",
   "execution_count": null,
   "metadata": {},
   "outputs": [],
   "source": [
    "export(hidden_files[0],  name=\"hidden_files\", outputName=\"hidden_files_2023.json\")\n",
    "export(hidden_directory_stat[0], name = \"hidden_directory_stat\", outputName=\"hidden_directory_stat_2023.json\")"
   ]
  },
  {
   "cell_type": "code",
   "execution_count": null,
   "metadata": {},
   "outputs": [],
   "source": [
    "export(get_apps_with_code(code_suffix,duckdb_conn=duckdb_conn_2023), outputName = \"code_2023.json\")\n",
    "export(script_stats, outputName = \"scripts_2023.json\")\n",
    "export(podfile, name=\"podfile\", outputName=\"podfile_2023.json\")\n",
    "\n"
   ]
  },
  {
   "cell_type": "code",
   "execution_count": null,
   "metadata": {},
   "outputs": [],
   "source": [
    "export(get_apps_with_code(code_suffix,duckdb_conn=duckdb_conn_2024), outputName = \"code_2024.json\")\n"
   ]
  },
  {
   "cell_type": "code",
   "execution_count": null,
   "metadata": {},
   "outputs": [],
   "source": [
    "script_stats_24 = get_apps_with_scripts(script_suffix, duckdb_conn=duckdb_conn_2024)\n",
    "podfile_24 = fetch_all_from_queries(\"SELECT DISTINCT app_name, platform FROM files join apps on files.app_id = apps.id where files.file_name like 'Podfile%';\",duckdb_conn=duckdb_conn_2024)"
   ]
  },
  {
   "cell_type": "code",
   "execution_count": null,
   "metadata": {},
   "outputs": [],
   "source": [
    "hidden_files_24 = get_hidden_files(duckdb_conn=duckdb_conn_2024)\n",
    "hidden_directory_stat_24 = get_hidden_directory_stats(duckdb_conn=duckdb_conn_2024)\n"
   ]
  },
  {
   "cell_type": "code",
   "execution_count": null,
   "metadata": {},
   "outputs": [],
   "source": [
    "export(hidden_files_24[0],  name=\"hidden_files\", outputName=\"hidden_files_2024.json\")\n",
    "export(hidden_directory_stat_24[0], name = \"hidden_directory_stat\", outputName=\"hidden_directory_stat_2024.json\")"
   ]
  },
  {
   "cell_type": "code",
   "execution_count": null,
   "metadata": {},
   "outputs": [],
   "source": [
    "export(code_stats_24, outputName = \"code_2024.json\")\n",
    "export(script_stats_24, outputName = \"scripts_2024.json\")\n",
    "export(podfile_24, name=\"podfile\", outputName=\"podfile_2024.json\")"
   ]
  },
  {
   "cell_type": "code",
   "execution_count": null,
   "metadata": {},
   "outputs": [],
   "source": [
    "google_service_query = \"Select DISTINCT apps.app_name, apps.platform from apps join files on apps.id = files.app_id where files.file_name like 'google-services%.json' or files.file_name like 'GoogleService-Info%.plist';\"\n",
    "google_service_2023 = fetch_all_from_queries(google_service_query)\n",
    "google_service_2024 = fetch_all_from_queries(google_service_query, duckdb_conn=duckdb_conn_2024)"
   ]
  },
  {
   "cell_type": "code",
   "execution_count": null,
   "metadata": {},
   "outputs": [],
   "source": [
    "env_query = \"Select DISTINCT apps.app_name, apps.platform from apps join files on apps.id = files.app_id where (files.file_name like '%.env' or files.file_name like '.env%') and files.mime_type = 'text/plain';\"\n",
    "env_2023 = fetch_all_from_queries(env_query)\n",
    "env_2024 = fetch_all_from_queries(env_query, duckdb_conn=duckdb_conn_2024)"
   ]
  },
  {
   "cell_type": "code",
   "execution_count": null,
   "metadata": {},
   "outputs": [],
   "source": [
    "xcodeconf_query = \"Select DISTINCT apps.app_name, apps.platform from apps join files on apps.id = files.app_id where (files.file_name like '%.xcconfig');\"\n",
    "xcodeconf_2023 = fetch_all_from_queries(xcodeconf_query)\n",
    "xcodeconf_2024 = fetch_all_from_queries(xcodeconf_query, duckdb_conn=duckdb_conn_2024)"
   ]
  },
  {
   "cell_type": "code",
   "execution_count": null,
   "metadata": {},
   "outputs": [],
   "source": [
    "len(xcodeconf_2023)"
   ]
  },
  {
   "cell_type": "code",
   "execution_count": null,
   "metadata": {},
   "outputs": [],
   "source": [
    "len(xcodeconf_2024)"
   ]
  }
 ],
 "metadata": {
  "kernelspec": {
   "display_name": "execution-gGNv-6dD",
   "language": "python",
   "name": "python3"
  },
  "language_info": {
   "codemirror_mode": {
    "name": "ipython",
    "version": 3
   },
   "file_extension": ".py",
   "mimetype": "text/x-python",
   "name": "python",
   "nbconvert_exporter": "python",
   "pygments_lexer": "ipython3",
   "version": "3.13.3"
  }
 },
 "nbformat": 4,
 "nbformat_minor": 2
}
