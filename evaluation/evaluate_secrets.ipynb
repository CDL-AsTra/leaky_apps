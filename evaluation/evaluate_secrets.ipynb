{
 "cells": [
  {
   "cell_type": "code",
   "execution_count": 2,
   "metadata": {},
   "outputs": [],
   "source": [
    "import json\n",
    "import sqlite3\n",
    "import os\n",
    "import pandas as pd\n",
    "import jwt\n",
    "import importlib\n",
    "import statistics\n",
    "\n",
    "importlib.reload(jwt)\n",
    "from scipy import stats\n",
    "import researchpy\n",
    "import plotly\n",
    "importlib.reload(plotly)\n",
    "import plotly.graph_objects as go\n"
   ]
  },
  {
   "cell_type": "code",
   "execution_count": null,
   "metadata": {},
   "outputs": [],
   "source": [
    "prefix = \"\" # adjust to your location\n",
    "\n",
    "db_2023 = os.path.join(prefix, \"results/matching_2023.db\")\n",
    "db_2024 = os.path.join(prefix, \"results/matching_2024.db\")\n",
    "\n",
    "verified_secrets = os.path.join(prefix,\"results/verified/\")\n",
    "re_evaluated_secrets = os.path.join(prefix,\"results/re_evaluated/\")\n",
    "\n",
    "android_metadata_path = os.path.join(prefix,\"results/dataset/android_metadata.json\")\n",
    "matching_file_path = os.path.join(prefix,\"results/dataset/matching.json\")"
   ]
  },
  {
   "cell_type": "code",
   "execution_count": null,
   "metadata": {},
   "outputs": [],
   "source": [
    "# exported from the evaluate metadata notebook\n",
    "\n",
    "code_2023_path = os.path.join(prefix,\"results/metadata/code_2023.json\")\n",
    "code_2024_path = os.path.join(prefix,\"results/metadata/code_2024.json\")\n",
    "scripts_2023_path = os.path.join(prefix,\"results/metadata/scripts_2023.json\")\n",
    "scripts_2024_path = os.path.join(prefix,\"results/metadata/scripts_2024.json\")\n",
    "podfile_2023_path = os.path.join(prefix,\"results/metadata/podfile_2023.json\")\n",
    "podfile_2024_path = os.path.join(prefix,\"results/metadata/podfile_2024.json\")\n",
    "hidden_directory_2023_path = os.path.join(prefix,\"results/metadata/hidden_directory_stat_2023.json\")\n",
    "hidden_directory_2024_path = os.path.join(prefix,\"results/metadata/hidden_directory_stat_2024.json\")\n",
    "hidden_files_2023_path = os.path.join(prefix,\"results/metadata/hidden_files_2023.json\")\n",
    "hidden_files_2024_path = os.path.join(prefix,\"results/metadata/hidden_files_2024.json\")\n"
   ]
  },
  {
   "cell_type": "code",
   "execution_count": null,
   "metadata": {},
   "outputs": [],
   "source": [
    "output_dir = \"\""
   ]
  },
  {
   "cell_type": "code",
   "execution_count": null,
   "metadata": {},
   "outputs": [],
   "source": [
    "from typing import List\n",
    "\n",
    "\n",
    "class Secret:\n",
    "    def __init__(self):\n",
    "        self.apps: List[AppInfo] = []\n",
    "        self.files = []\n",
    "        self.verified = False\n",
    "        self.reason = \"\"\n",
    "        self.secret = \"\"\n",
    "        self.detector = \"\"\n",
    "        self.full_details = []\n",
    "        self.file_paths = set()\n",
    "\n",
    "class AppInfo:\n",
    "    def __init__(self, name=\"\", platform=\"\"):\n",
    "        self.name = name\n",
    "        self.platform = platform\n",
    "\n",
    "    def __str__(self):\n",
    "        return f\"AppInfo(name={self.name}, platform={self.platform})\"\n",
    "\n",
    "    def __repr__(self):\n",
    "        return self.__str__()\n",
    "    \n",
    "    def __eq__(self, other):\n",
    "        if isinstance(other, AppInfo):\n",
    "            return self.name == other.name and self.platform == other.platform\n",
    "        return False\n",
    "    \n",
    "    def __hash__(self):\n",
    "        return hash((self.name, self.platform))\n"
   ]
  },
  {
   "cell_type": "code",
   "execution_count": null,
   "metadata": {},
   "outputs": [],
   "source": [
    "def load_json(file_path):\n",
    "    with open(file_path) as f:\n",
    "        return json.load(f)\n",
    "    \n",
    "\n"
   ]
  },
  {
   "cell_type": "code",
   "execution_count": null,
   "metadata": {},
   "outputs": [],
   "source": [
    "def get_infos_secret(secret, database_path):\n",
    "    conn = sqlite3.connect(database_path)\n",
    "    cursor = conn.cursor()\n",
    "    query = \"\"\"\n",
    "    SELECT apps.app_name, apps.platform, files.file_name, secrets.secret, files.file_path FROM apps JOIN files on apps.id = files.app_id JOIN secrets on secrets.file_id = files.id where secrets.secret like ?;\n",
    "    \"\"\"\n",
    "    cursor.execute(query, (\"%\" + secret + \"%\",))\n",
    "    results = cursor.fetchall()\n",
    "    if len(results) == 0:\n",
    "        cursor.execute(query, (\"%\" + secret.replace(\";-|\", \"\") + \"%\",))\n",
    "        results = cursor.fetchall()\n",
    "    conn.close()\n",
    "    return results\n",
    "\n",
    "\n",
    "def get_all_apps(database_path):\n",
    "    conn = sqlite3.connect(database_path)\n",
    "    cursor = conn.cursor()\n",
    "    query = \"\"\"\n",
    "    SELECT app_name, platform FROM apps;\n",
    "    \"\"\"\n",
    "    cursor.execute(query)\n",
    "    results = cursor.fetchall()\n",
    "    conn.close()\n",
    "    result_list = []\n",
    "    for result in results:\n",
    "        result_list.append(AppInfo(name=result[0], platform=result[1]))\n",
    "    return result_list\n",
    "\n",
    "def get_all_infos(database_path):\n",
    "    conn = sqlite3.connect(database_path)\n",
    "    cursor = conn.cursor()\n",
    "    query = \"\"\"\n",
    "    SELECT apps.app_name, apps.platform, files.file_name, secrets.secret, files.file_path FROM apps JOIN files on apps.id = files.app_id JOIN secrets on secrets.file_id = files.id;\n",
    "    \"\"\"\n",
    "    cursor.execute(query)\n",
    "    results = cursor.fetchall()\n",
    "    conn.close()\n",
    "    return results\n",
    "\n",
    "def get_private_key_secrets(database):\n",
    "    results = get_all_infos(database)\n",
    "    private_key_secrets = {}\n",
    "    for info in results:\n",
    "        json_secret = json.loads(info[3])\n",
    "        if json_secret.get(\"DetectorType\", -1) == 15:\n",
    "            current = private_key_secrets.get(json_secret[\"Raw\"], Secret())\n",
    "            current.secret = json_secret[\"Raw\"]\n",
    "            current.detector = \"Private Key\"\n",
    "            current.files.append(info[2])\n",
    "            current.apps.append(AppInfo(name=info[0], platform=info[1]))\n",
    "            private_key_secrets[json_secret[\"Raw\"]] = current\n",
    "            current.verified = True # They are not really verified but for simplicity later we set it to verified\n",
    "\n",
    "    for secret, secret_info in private_key_secrets.items():\n",
    "        secret_info.apps = list(set(secret_info.apps))\n",
    "        secret_info.files = list(set(secret_info.files))\n",
    "    return private_key_secrets\n",
    "\n",
    "def get_jwt_secrets(database):\n",
    "    results = get_all_infos(database)\n",
    "    jwt_secrets = {}\n",
    "    for info in results:\n",
    "        json_secret = json.loads(info[3])\n",
    "        if json_secret.get(\"DetectorDescription\",\"\") == \"Uncovered a JSON Web Token, which may lead to unauthorized access to web applications and sensitive user data.\":\n",
    "            current = jwt_secrets.get(json_secret[\"Raw\"], Secret())\n",
    "            current.secret = json_secret[\"Raw\"]\n",
    "            try:\n",
    "\n",
    "                decoded = jwt.decode(current.secret, options={\"verify_signature\": False})\n",
    "                \n",
    "            except:\n",
    "                print(\"exception\")\n",
    "                continue\n",
    "            current.detector = \"JWT\"\n",
    "            current.files.append(info[2])\n",
    "            current.apps.append(AppInfo(name=info[0], platform=info[1]))\n",
    "            current.verified = True # They are not really verified but for simplicity later we set it to verified\n",
    "            jwt_secrets[json_secret[\"Raw\"]] = current\n",
    "\n",
    "    for secret, secret_info in jwt_secrets.items():\n",
    "        secret_info.apps = list(set(secret_info.apps))\n",
    "        secret_info.files = list(set(secret_info.files))\n",
    "    return jwt_secrets\n",
    "\n",
    "def prepare_trufflehog(secret):\n",
    "    raw = secret[\"Raw\"].strip()\n",
    "    if secret.get(\"RawV2\", \"\") != \"\" and secret.get(\"DetectorType\", -1) != 17:\n",
    "        raw2 = secret[\"RawV2\"].strip()\n",
    "        if \";-|\" in raw2:\n",
    "            return raw2\n",
    "        else:\n",
    "            part2 = raw2.replace(raw, \"\")\n",
    "            new_raw =  raw + \";-|\"  + part2\n",
    "            if new_raw.endswith(\";-|\"):\n",
    "                new_raw = new_raw[:-3]\n",
    "            return new_raw\n",
    "    return raw\n",
    "\n",
    "def create_trufflehog_dict(infos):\n",
    "    results = {}\n",
    "    for info in infos:\n",
    "        secret_info = prepare_trufflehog(json.loads(info[3]))\n",
    "        current = results.get(secret_info, [])\n",
    "        current.append(info)\n",
    "        results[secret_info] = current\n",
    "    return results\n",
    "\n",
    "\n",
    "\n",
    "def add_infos_to_secrets(results, database_path):\n",
    "    all_infos = create_trufflehog_dict(get_all_infos(database_path))\n",
    "    for secret,current_info in results.items():\n",
    "        for info in all_infos.get(secret, []):\n",
    "            current_app = AppInfo()\n",
    "            current_app.name = info[0]\n",
    "            current_app.platform = info[1]\n",
    "            current_info.apps.append(current_app)\n",
    "            \n",
    "            current_info.files.append(info[2])\n",
    "            current_info.full_details.append(json.loads(info[3]))\n",
    "            current_info.file_paths.add(info[4])\n",
    "\n",
    "    return results\n",
    "\n",
    "\n",
    "def post_process(secrets, database_path, remove=False):\n",
    "    secrets = add_infos_to_secrets(secrets, database_path)\n",
    "    print(len(secrets))\n",
    "    results = {}\n",
    "    for secret, secret_info in secrets.items():\n",
    "        if remove:\n",
    "            if len(secret_info.full_details) == 0:\n",
    "                continue\n",
    "            if (secret_info.full_details[0].get(\"DetectorDescription\",\"\") == \"Uncovered a JSON Web Token, which may lead to unauthorized access to web applications and sensitive user data.\" or \n",
    "                secret_info.full_details[0].get(\"DetectorType\", -1) in [1031, 1021, 1010, 1012, 1025, 1002, 727, 15] or \n",
    "                secret_info.full_details[0].get(\"DetectorDescription\", \"\") == \"Identified an Email address.\" ):\n",
    "                continue\n",
    "        if len(secret_info.apps) > 0:\n",
    "            secret_info.apps = list(set(secret_info.apps))\n",
    "            secret_info.files = list(set(secret_info.files))\n",
    "            results[secret] = secret_info\n",
    "    return results\n",
    "\n",
    "\n",
    "def join_dict(results_1, results_2, only_verified=False):\n",
    "    result = {}\n",
    "    for k,v in results_1.items():\n",
    "        if only_verified and v.verified:\n",
    "            result[k] = v\n",
    "        elif not only_verified:\n",
    "            result[k] = v\n",
    "\n",
    "    for k,v in results_2.items():\n",
    "        if only_verified and  v.verified and k not in result:\n",
    "            result[k] = v\n",
    "        elif not only_verified and k not in result:\n",
    "            result[k] = v\n",
    "\n",
    "    return result\n"
   ]
  },
  {
   "cell_type": "code",
   "execution_count": null,
   "metadata": {},
   "outputs": [],
   "source": [
    "def get_unique_secrets(all_secrets):\n",
    "    results_secrets = {}\n",
    "    rule_ids = {}\n",
    "    unique_per_file = {}\n",
    "    # apps.app_name, apps.platform, files.file_name, secrets.secret, files.file_path\n",
    "    for name, platform, file_name, secret, file_path in all_secrets:\n",
    "        appid = f\"{name}_{platform}\"\n",
    "        json_secret = json.loads(secret)\n",
    "        secret = prepare_trufflehog(json_secret)\n",
    "\n",
    "\n",
    "        detector_type = json_secret.get(\"DetectorType\", \"\")\n",
    "        if str(detector_type) in [\"1002\", \"727\", \"1021\", \"1025\", \"1012\", \"1021\", \"1031\", \"1010\", \"4\", \"1008\"]:\n",
    "            continue\n",
    "        if (json_secret.get(\"DetectorDescription\",\"\") == \"Uncovered a JSON Web Token, which may lead to unauthorized access to web applications and sensitive user data.\" or \n",
    "            json_secret.get(\"DetectorType\", -1) in [1031, 1021, 1010, 1012, 1025, 1002, 727, 15] or \n",
    "            json_secret.get(\"DetectorDescription\", \"\") == \"Identified an Email address.\" ):\n",
    "            continue\n",
    "\n",
    "\n",
    "        rule_ids[secret] = detector_type\n",
    "        tmp = results_secrets.get(secret, set())\n",
    "        tmp.add(appid)\n",
    "        results_secrets[secret] = tmp\n",
    "        \n",
    "        findings = unique_per_file.get(file_path, {})\n",
    "        tmp_findings = findings.get(detector_type, set())\n",
    "        tmp_findings.add(secret)\n",
    "        findings[detector_type] = tmp_findings\n",
    "        unique_per_file[file_path] = findings\n",
    "\n",
    "    return results_secrets, rule_ids, unique_per_file\n",
    "\n",
    "\n"
   ]
  },
  {
   "cell_type": "code",
   "execution_count": null,
   "metadata": {},
   "outputs": [],
   "source": [
    "def get_results(folder_path):\n",
    "    result = {}\n",
    "    for file in os.listdir(folder_path):\n",
    "        with open(os.path.join(folder_path, file), \"r\") as f:\n",
    "            data = json.load(f)\n",
    "            if \"verified\" not in data:\n",
    "                continue\n",
    "            if data.get(\"detector\", 0) in [\"1031\", \"1021\", \"1010\", \"1012\", \"1025\", \"1002\", \"727\"]:\n",
    "                continue\n",
    "\n",
    "            current_secret = Secret()\n",
    "            current_secret.secret = data[\"secret\"]\n",
    "            current_secret.verified = data[\"verified\"]\n",
    "            current_secret.reason = data.get(\"reason\", \"trufflehog\")\n",
    "            current_secret.detector = data[\"detector\"]\n",
    "\n",
    "            result[current_secret.secret] = current_secret\n",
    "\n",
    "    return result"
   ]
  },
  {
   "cell_type": "code",
   "execution_count": null,
   "metadata": {},
   "outputs": [],
   "source": [
    "\n",
    "all_apps_2023 = get_all_apps(db_2023)\n",
    "all_apps_2024 = get_all_apps(db_2024)"
   ]
  },
  {
   "cell_type": "code",
   "execution_count": null,
   "metadata": {},
   "outputs": [],
   "source": [
    "private_keys_2023 = get_private_key_secrets(db_2023)\n",
    "private_keys_2024 = get_private_key_secrets(db_2024)"
   ]
  },
  {
   "cell_type": "code",
   "execution_count": null,
   "metadata": {},
   "outputs": [],
   "source": [
    "private_keys_both = join_dict(private_keys_2023, private_keys_2024)"
   ]
  },
  {
   "cell_type": "code",
   "execution_count": null,
   "metadata": {},
   "outputs": [],
   "source": [
    "jwt_2023 = get_jwt_secrets(db_2023)\n",
    "jwt_2024 = get_jwt_secrets(db_2024)"
   ]
  },
  {
   "cell_type": "code",
   "execution_count": null,
   "metadata": {},
   "outputs": [],
   "source": [
    "jwt_both = join_dict(jwt_2023, jwt_2024)"
   ]
  },
  {
   "cell_type": "code",
   "execution_count": null,
   "metadata": {},
   "outputs": [],
   "source": [
    "all_results = get_results(verified_secrets)\n",
    "results_2023 = post_process(all_results, db_2023, remove=True)"
   ]
  },
  {
   "cell_type": "code",
   "execution_count": null,
   "metadata": {},
   "outputs": [],
   "source": [
    "all_results_after_disclosure = get_results(re_evaluated_secrets)\n",
    "results_2023_after_disclosure = post_process(all_results_after_disclosure, db_2023, remove=True)\n",
    "results_2024_after_disclosure = post_process(all_results_after_disclosure, db_2024, remove=True)"
   ]
  },
  {
   "cell_type": "code",
   "execution_count": null,
   "metadata": {},
   "outputs": [],
   "source": [
    "all_results = get_results(verified_secrets)\n",
    "results_2024 = post_process(all_results, db_2024, remove=True)"
   ]
  },
  {
   "cell_type": "code",
   "execution_count": null,
   "metadata": {},
   "outputs": [],
   "source": [
    "results_2023_android = {k:v for k,v in results_2023.items() for app in v.apps if app.platform == \"android\"}\n",
    "results_2023_ios = {k:v for k,v in results_2023.items() for app in v.apps if app.platform == \"ios\"}\n",
    "results_2024_android = {k:v for k,v in results_2024.items() for app in v.apps if app.platform == \"android\"}\n",
    "results_2024_ios = {k:v for k,v in results_2024.items() for app in v.apps if app.platform == \"ios\"}"
   ]
  },
  {
   "cell_type": "code",
   "execution_count": null,
   "metadata": {},
   "outputs": [],
   "source": [
    "results_both_verified = join_dict(results_2023, results_2024, only_verified=True)\n",
    "results_both = join_dict(results_2023, results_2024)\n",
    "results_both_android = {k:v for k,v in results_both.items() for app in v.apps if app.platform == \"android\"}\n",
    "results_both_ios = {k:v for k,v in results_both.items() for app in v.apps if app.platform == \"ios\"}"
   ]
  },
  {
   "cell_type": "code",
   "execution_count": null,
   "metadata": {},
   "outputs": [],
   "source": [
    "results_both_verified_retest = join_dict(results_2023_after_disclosure, results_2024_after_disclosure, only_verified=True)\n"
   ]
  },
  {
   "cell_type": "code",
   "execution_count": null,
   "metadata": {},
   "outputs": [],
   "source": [
    "len(results_both_verified_retest)"
   ]
  },
  {
   "cell_type": "code",
   "execution_count": null,
   "metadata": {},
   "outputs": [],
   "source": [
    "len(results_both_verified) - len(results_both_verified_retest)"
   ]
  },
  {
   "cell_type": "code",
   "execution_count": null,
   "metadata": {},
   "outputs": [],
   "source": [
    "(len(results_both_verified) - len(results_both_verified_retest)) / len(results_both_verified) * 100"
   ]
  },
  {
   "cell_type": "code",
   "execution_count": null,
   "metadata": {},
   "outputs": [],
   "source": [
    "100 - (len(results_both_verified) - len(results_both_verified_retest)) / len(results_both_verified) * 100"
   ]
  },
  {
   "cell_type": "code",
   "execution_count": null,
   "metadata": {},
   "outputs": [],
   "source": [
    "len(results_both)"
   ]
  },
  {
   "cell_type": "code",
   "execution_count": null,
   "metadata": {},
   "outputs": [],
   "source": [
    "def get_detector_map(results, verified = True):\n",
    "    valid_secrets = {}\n",
    "    for secret, secret_info in results.items():\n",
    "        if secret_info.verified is verified:\n",
    "            detector_name = secret_info.full_details[0].get(\"DetectorName\", \"\")\n",
    "            current = valid_secrets.get(detector_name, [])\n",
    "            current.append(secret)\n",
    "            valid_secrets[detector_name] = current\n",
    "    return valid_secrets\n",
    "\n",
    "\n",
    "def get_only_secrets_by_detector_name(results, names, verified = True):\n",
    "    valid_secrets = {}\n",
    "    for secret, secret_info in results.items():\n",
    "        if secret_info.verified is verified:\n",
    "            detector_name = secret_info.full_details[0].get(\"DetectorName\", \"\")\n",
    "            if detector_name in names:\n",
    "                valid_secrets[secret] = secret_info\n",
    "    return valid_secrets"
   ]
  },
  {
   "cell_type": "code",
   "execution_count": null,
   "metadata": {},
   "outputs": [],
   "source": [
    "def create_stat_arrays_platfroms(results, android_ids):\n",
    "    android= {}\n",
    "    ios = {}\n",
    "    for k, v in results.items():\n",
    "        if v.verified:\n",
    "            for app in v.apps:\n",
    "                if app.platform == \"android\":\n",
    "                    current = android.get(app.name, [])\n",
    "                    current.append(k)\n",
    "                    android[app.name] = current\n",
    "                else:\n",
    "                    matching_name = matching[app.name]\n",
    "                    current = ios.get(matching_name, [])\n",
    "                    current.append(k)\n",
    "                    ios[matching_name] = current\n",
    "\n",
    "    for app in android_ids:\n",
    "        if app not in android:\n",
    "            android[app] = []\n",
    "        if app not in ios:\n",
    "            ios[app] = []\n",
    "\n",
    "    for k,v in android.items():\n",
    "        android[k] = len(v)\n",
    "    for k,v in ios.items():\n",
    "        ios[k] = len(v)\n",
    "    \n",
    "    df = pd.DataFrame({'Android': android, 'iOS': ios})\n",
    "    df.fillna(0, inplace=True)\n",
    "    df = df.astype(int)\n",
    "    return df\n",
    "\n",
    "def get_dttest_platforms(results, all_android_ids):\n",
    "    df = create_stat_arrays_platfroms(results, all_android_ids)\n",
    "    des,res = researchpy.ttest(df['iOS'], df['Android'], paired=True)\n",
    "    return res.loc[3]['results'], res.loc[6][\"results\"] #stats.ttest_rel(df['Android'], df['iOS'])\n",
    "\n",
    "def create_tmp_array(current_result, android_ids, matching_apps):\n",
    "    to_return = {}\n",
    "    for k,v in current_result.items():\n",
    "        if v.verified:\n",
    "            for app in v.apps:\n",
    "                current = to_return.get(app.name + \"_\" + app.platform, [])\n",
    "                current.append(k)\n",
    "                to_return[app.name + \"_\" + app.platform] = current\n",
    "    tmp = {}\n",
    "    for k,v in to_return.items():\n",
    "        tmp[k] = len(v)\n",
    "    android_id_strings = [x.name + \"_android\" for x in android_ids]\n",
    "    for k,v in matching_apps.items():\n",
    "        if v in android_id_strings:\n",
    "            if k+\"_ios\" not in tmp:\n",
    "                tmp[k+\"_ios\"] = 0\n",
    "            if v + \"_android\" not in tmp:\n",
    "                tmp[v + \"_android\"] = 0\n",
    "    return tmp\n",
    "\n",
    "\n",
    "\n",
    "def create_stat_array_years(results_1, results_2, android_ids, matching_apps, only_Android = True, only_iOS = False):\n",
    "    tmp_1 = create_tmp_array(results_1, android_ids, matching_apps)\n",
    "    tmp_2 = create_tmp_array(results_2, android_ids, matching_apps)\n",
    "\n",
    "\n",
    "    if only_Android:\n",
    "        tmp_1 = {k:v for k,v in tmp_1.items() if k.endswith(\"_android\")}\n",
    "        tmp_2 = {k:v for k,v in tmp_2.items() if k.endswith(\"_android\")}\n",
    "    if only_iOS:\n",
    "        tmp_1 = {k:v for k,v in tmp_1.items() if k.endswith(\"_ios\")}\n",
    "        tmp_2 = {k:v for k,v in tmp_2.items() if k.endswith(\"_ios\")}\n",
    "\n",
    "    result = {\"results_1\": tmp_1 , \"results_2\": tmp_2}\n",
    "    df = pd.DataFrame(result)\n",
    "    df.fillna(0, inplace=True)\n",
    "    df = df.astype(int)\n",
    "    return df\n",
    "                \n",
    "\n",
    "\n",
    "def get_dttest_years(results_1, results_2, android_ids, matching_apps, only_Android, only_iOS):\n",
    "    df = create_stat_array_years(results_1, results_2, android_ids,matching_apps, only_Android=only_Android, only_iOS=only_iOS)\n",
    "    des,res = researchpy.ttest(df['results_1'], df['results_2'], paired=True)\n",
    "    #print(res)\n",
    "    return res.loc[3]['results'], res.loc[6][\"results\"] #stats.ttest_rel(df['Android'], df['iOS'])\n",
    "\n"
   ]
  },
  {
   "cell_type": "code",
   "execution_count": null,
   "metadata": {},
   "outputs": [],
   "source": [
    "def get_stats_detector(results, verified = True, only_selected = None, categories = None):\n",
    "    valid = get_detector_map(results, True)\n",
    "    invalid = get_detector_map(results, False)\n",
    "    stats = {}\n",
    "\n",
    "    for key in set(valid.keys()).union(set(invalid.keys())):\n",
    "        if verified and key not in valid :\n",
    "            continue\n",
    "        if only_selected is not None and key not in only_selected:\n",
    "            continue\n",
    "\n",
    "        stats[key] = {\"valid\": len(valid.get(key,[])), \"invalid\": len(invalid.get(key, [])), \"percentage\": f\"{((len(valid.get(key,[])) / (len(valid.get(key, [])) + len(invalid.get(key, []))))*100):.2f}%\"}\n",
    "\n",
    "    if categories != None:\n",
    "        for k, v in categories.items():\n",
    "            current = {\"valid\": 0, \"invalid\": 0}\n",
    "            for value in v:\n",
    "                if value not in stats:\n",
    "                    continue\n",
    "                current[\"valid\"] += stats[value].get(\"valid\", 0)\n",
    "                current[\"invalid\"] += stats[value].get(\"invalid\", 0)\n",
    "                del stats[value]\n",
    "\n",
    "            current[\"percentage\"] = f\"{((current['valid'] / (current['valid'] + current['invalid']))*100):.2f}%\"\n",
    "            stats[k] = current\n",
    "                \n",
    "    return pd.DataFrame(stats)\n"
   ]
  },
  {
   "cell_type": "code",
   "execution_count": null,
   "metadata": {},
   "outputs": [],
   "source": [
    "def get_stats_detector_platform(results, matching_apps, verified = True, only_selected = None, categories = None, app_ids =None):\n",
    "    results_android = {k:v for k,v in results.items() for app in v.apps if app.platform == \"android\"}\n",
    "    results_ios = {k:v for k,v in results.items() for app in v.apps if app.platform == \"ios\"}\n",
    "    results_both = {k:v for k,v in results.items() for app in v.apps if app.platform == \"ios\" and AppInfo(matching_apps[app.name], \"android\") in v.apps}\n",
    "\n",
    "    valid_android = get_detector_map(results_android, True)\n",
    "    invalid_android = get_detector_map(results_android, False)\n",
    "    valid_ios = get_detector_map(results_ios, True)\n",
    "    invalid_ios = get_detector_map(results_ios, False)\n",
    "    valid_both = get_detector_map(results_both, True)\n",
    "    invalid_both = get_detector_map(results_both, False)\n",
    "\n",
    "    stats = {}\n",
    "    all_keys = set(valid_both.keys()).union(set(invalid_both.keys())).union(valid_android.keys()).union(invalid_android.keys()).union(valid_ios.keys()).union(invalid_ios.keys())\n",
    "    for key in all_keys:\n",
    "        if verified and key not in valid_both and key not in valid_android and key not in valid_ios:\n",
    "            continue\n",
    "        if only_selected is not None and key not in only_selected:\n",
    "            continue\n",
    "\n",
    "        stats[key] = {}\n",
    "        if key in valid_android or key in invalid_android:\n",
    "            stats[key] = {\"valid_android\": len(valid_android.get(key,[])), \"invalid_android\": len(invalid_android.get(key, [])), \"percentage_android\": f\"{((len(valid_android.get(key,[])) / (len(invalid_android.get(key, [])) + len(valid_android.get(key, []))))*100):.2f}%\"}\n",
    "        if key in valid_ios or key in invalid_ios:\n",
    "            stats[key] = stats[key]| {\"valid_ios\": len(valid_ios.get(key,[])), \"invalid_ios\": len(invalid_ios.get(key, [])), \"percentage_ios\": f\"{((len(valid_ios.get(key,[])) / (len(invalid_ios.get(key, [])) + len(valid_ios.get(key, []))))*100):.2f}%\"}\n",
    "        if key in valid_both or key in invalid_both:\n",
    "            stats[key] = stats[key]|{\"valid_both\": len(valid_both.get(key,[])), \"invalid_both\": len(invalid_both.get(key, [])), \"percentage_both\": f\"{((len(valid_both.get(key,[])) / (len(invalid_both.get(key, [])) + len(valid_both.get(key, []))))*100):.2f}%\"}\n",
    "   \n",
    "    if categories != None:\n",
    "        for k, v in categories.items():\n",
    "            current = {\"valid_android\": 0, \"invalid_android\": 0, \"valid_ios\": 0, \"invalid_ios\": 0, \"valid_both\": 0, \"invalid_both\": 0}\n",
    "            for value in v:\n",
    "                if value not in stats:\n",
    "                    continue\n",
    "                current[\"valid_android\"] += stats[value].get(\"valid_android\", 0)\n",
    "                current[\"invalid_android\"] += stats[value].get(\"invalid_android\", 0)\n",
    "                current[\"valid_ios\"] += stats[value].get(\"valid_ios\", 0)\n",
    "                current[\"invalid_ios\"] += stats[value].get(\"invalid_ios\", 0)\n",
    "                current[\"valid_both\"] += stats[value].get(\"valid_both\", 0)\n",
    "                current[\"invalid_both\"] += stats[value].get(\"invalid_both\", 0)\n",
    "                del stats[value]\n",
    "\n",
    "\n",
    "            current[\"percentage_android\"] = f\"{((current['valid_android'] / (current['valid_android'] + current['invalid_android']))*100):.2f}%\"\n",
    "            current[\"percentage_ios\"] = f\"{((current['valid_ios'] / (current['valid_ios'] + current['invalid_ios']))*100):.2f}%\"\n",
    "            current[\"percentage_both\"] = f\"{((current['valid_both'] / (current['valid_both'] + current['invalid_both']))*100):.2f}%\"\n",
    "            \n",
    "            stats[k] = current\n",
    "\n",
    "    \n",
    "    if app_ids != None:\n",
    "        for k,v in stats.items():\n",
    "            print(k)\n",
    "            if categories and  k in categories:\n",
    "                detector_results = get_only_secrets_by_detector_name(results, categories[k], verified = True)\n",
    "                #print(k)\n",
    "                #print(detector_results)\n",
    "                ttest_result = get_dttest_platforms(detector_results, app_ids)\n",
    "                print(ttest_result)\n",
    "            else:\n",
    "                detector_results = get_only_secrets_by_detector_name(results, [k], verified = True)\n",
    "\n",
    "                #print(k)\n",
    "                #print(detector_results)\n",
    "\n",
    "                ttest_result = get_dttest_platforms(detector_results, app_ids)\n",
    "                print(ttest_result)\n",
    "            if ttest_result[0] < 0.01:\n",
    "                stats[k][\"ttest_p\"] = \"<0.01\"\n",
    "            else:\n",
    "                stats[k][\"ttest_p\"] = f\"{ttest_result[0]:.2f}\"\n",
    "            stats[k][\"ttest_statistic\"] = f\"{ttest_result[1]:.2F}\"\n",
    "\n",
    "    df = pd.DataFrame(stats).transpose().sort_index().fillna(0)\n",
    "\n",
    "    df.loc[\"total\"] = df.select_dtypes(exclude=['object']).sum(axis=0)\n",
    "    df = df.apply(lambda x: x.astype(int) if x.dtype == 'float' else x)\n",
    "                \n",
    "    return df"
   ]
  },
  {
   "cell_type": "code",
   "execution_count": null,
   "metadata": {},
   "outputs": [],
   "source": [
    "print(\"total_credentials\")\n",
    "all = get_stats_detector(results_both, verified=False).transpose().sum()\n",
    "print(all[\"valid\"] + all[\"invalid\"])\n",
    "\n",
    "total_extracted = 10328\n",
    "\n",
    "print(\"total categories\")\n",
    "print(len(get_stats_detector(results_both, verified=False).transpose()))\n",
    "\n",
    "print(\"total valid\")\n",
    "print(all[\"valid\"])\n",
    "print(f\"{all['valid'] / total_extracted * 100:.2f}%\")\n",
    "\n",
    "print(\"total categories verified\")\n",
    "print(len(get_stats_detector(results_both, verified=True).transpose()))"
   ]
  },
  {
   "cell_type": "code",
   "execution_count": null,
   "metadata": {},
   "outputs": [],
   "source": [
    "get_stats_detector(results_both, verified=False)"
   ]
  },
  {
   "cell_type": "code",
   "execution_count": null,
   "metadata": {},
   "outputs": [],
   "source": [
    "\n",
    "high_risk = [\"Alibaba\", \"Github\", \"Yelp\", \"Squareup\", \"AWS\",  \"RazorPay\", \"Azure\",  \"Stripe\", \"GCP\", \"FTP\", \"Dockerhub\"]\n",
    "medium_risk = [\"Alchemy\", \"Vercel\", \"Moralis\", \"ZendeskApi\", \"DatadogToken\",\"SendGrid\", \"BoxOauth\", \"AutoPilot\", \"Crowdin\", \"SentryToken\", \"URI\", \"PubNubPublishKey\", \"PubNubSubscriptionKey\", \"BrowserStack\", \"Honeycomb\", \"Slack\", \"FourSquare\", \"MediaStack\", \"Mailgun\", \"LaunchDarkly\", \"HuggingFace\", \"Statuspage\", \"PrivateKey\", \"CustomerIO\", \"Mailchimp\", \"Notion\", \"TrelloApiKey\", \"Disqus\", \"LokaliseToken\", \"Box\", \"Freshdesk\", \"Twilio\"]\n",
    "low_risk = [\"Tomtom\", \"Pixabay\", \"ZipCodeAPI\", \"BitLyAccessToken\", \"OpenWeather\", \"HereAPI\", \"Graphhopper\", \"TwitterConsumerkey\", \"Flickr\", \"ExchangeRatesAPI\", \"LocationIQ\", \"WorldWeather\", \"IpStack\", \"Unsplash\", \"WeatherStack\", \"OpenAI\", \"SlackWebhook\", \"YoutubeApiKey\", \"IPGeolocation\", \"MaxMindLicense\", \"Geoapify\", \"VisualCrossing\", \"Replicate\", \"Infura\", \"Etherscan\",\"BscScan\",]"
   ]
  },
  {
   "cell_type": "code",
   "execution_count": null,
   "metadata": {},
   "outputs": [],
   "source": []
  },
  {
   "cell_type": "code",
   "execution_count": null,
   "metadata": {},
   "outputs": [],
   "source": [
    "print(get_stats_detector(results_both, verified=False).transpose().sort_index().to_latex())\n"
   ]
  },
  {
   "cell_type": "code",
   "execution_count": null,
   "metadata": {},
   "outputs": [],
   "source": [
    "get_stats_detector(results_both, categories={\"Other\": medium_risk + low_risk}).transpose().sort_index()\n"
   ]
  },
  {
   "cell_type": "code",
   "execution_count": null,
   "metadata": {},
   "outputs": [],
   "source": [
    "def compare_two_results(result_1, result_2):\n",
    "\n",
    "    df_android = get_stats_detector(result_1).transpose().sort_index()\n",
    "    df_ios = get_stats_detector(result_2).transpose().sort_index()\n",
    "\n",
    "    # Remove the 'invalid' column from both dataframes\n",
    "    df_android = df_android.drop(columns=['invalid'])\n",
    "    df_ios = df_ios.drop(columns=['invalid'])\n",
    "\n",
    "    # Calculate the total number of valid credentials for each platform\n",
    "    total_valid_android = df_android['valid'].sum()\n",
    "    total_valid_ios = df_ios['valid'].sum()\n",
    "\n",
    "    # Add the percentage column\n",
    "    df_android['percentage_v2'] = (df_android['valid'] / total_valid_android) * 100\n",
    "    df_ios['percentage_v2'] = (df_ios['valid'] / total_valid_ios) * 100\n",
    "    # Format the percentage_v2 column\n",
    "    df_android['percentage_v2'] = df_android['percentage_v2'].map('{:.2f} %'.format)\n",
    "    df_ios['percentage_v2'] = df_ios['percentage_v2'].map('{:.2f} %'.format)\n",
    "\n",
    "    # Merge the two dataframes\n",
    "    merged_df = pd.merge(df_android, df_ios, left_index=True, right_index=True, suffixes=('_result_1', '_result_2'))\n",
    "    return merged_df\n"
   ]
  },
  {
   "cell_type": "code",
   "execution_count": null,
   "metadata": {},
   "outputs": [],
   "source": [
    "matching = load_json(matching_file_path)"
   ]
  },
  {
   "cell_type": "code",
   "execution_count": null,
   "metadata": {},
   "outputs": [],
   "source": [
    "all_without_selected = low_risk +medium_risk + high_risk \n",
    "all_without_selected.remove(\"Infura\")\n",
    "all_without_selected.remove(\"OpenAI\")\n",
    "all_without_selected.remove(\"OpenWeather\")\n",
    "all_without_selected.remove(\"SlackWebhook\")\n",
    "all_without_selected.remove(\"AWS\")\n",
    "all_without_selected.remove(\"Github\")\n",
    "all_without_selected.remove(\"Flickr\")\n",
    "\n",
    "#Note: 3 bitbucket = 2 android and 1 ios; jenkins = both\n",
    "# android + 3\n",
    "# ios + 2\n",
    "# both + 1\n",
    "\n",
    "\n",
    "stats_both_platforms = get_stats_detector_platform(results_both, matching, categories={\"Other\": all_without_selected}, app_ids=all_apps_2023).sort_index()\n",
    "stats_both_platforms.drop(columns=[col for col in stats_both_platforms.columns if col.startswith('invalid')], inplace=True)\n",
    "stats_both_platforms.drop(columns=[col for col in stats_both_platforms.columns if col.startswith('percentage_')], inplace=True)\n",
    "print(stats_both_platforms.to_latex())\n"
   ]
  },
  {
   "cell_type": "code",
   "execution_count": null,
   "metadata": {},
   "outputs": [],
   "source": [
    "print(\"Total\")\n",
    "get_dttest_platforms(results_both, all_apps_2023)\n"
   ]
  },
  {
   "cell_type": "code",
   "execution_count": null,
   "metadata": {},
   "outputs": [],
   "source": [
    "stats_both_platforms"
   ]
  },
  {
   "cell_type": "code",
   "execution_count": null,
   "metadata": {},
   "outputs": [],
   "source": [
    "print(stats_both_platforms.to_latex())"
   ]
  },
  {
   "cell_type": "code",
   "execution_count": null,
   "metadata": {},
   "outputs": [],
   "source": [
    "print(get_stats_detector_platform(results_both, matching).to_latex())\n"
   ]
  },
  {
   "cell_type": "code",
   "execution_count": null,
   "metadata": {},
   "outputs": [],
   "source": [
    "compare_two_results(results_2023, results_2024)"
   ]
  },
  {
   "cell_type": "code",
   "execution_count": null,
   "metadata": {},
   "outputs": [],
   "source": [
    "len(medium_risk + low_risk)"
   ]
  },
  {
   "cell_type": "code",
   "execution_count": null,
   "metadata": {},
   "outputs": [],
   "source": [
    "print(get_stats_detector(results_both, categories={\"Other\": medium_risk + low_risk}).transpose().sort_index().to_latex())\n"
   ]
  },
  {
   "cell_type": "code",
   "execution_count": null,
   "metadata": {},
   "outputs": [],
   "source": [
    "get_stats_detector(results_both).transpose().to_csv(os.path.join(output_dir, \"valid_services.csv\"))"
   ]
  },
  {
   "cell_type": "code",
   "execution_count": null,
   "metadata": {},
   "outputs": [],
   "source": [
    "get_stats_detector(results_2024).transpose()"
   ]
  },
  {
   "cell_type": "code",
   "execution_count": null,
   "metadata": {},
   "outputs": [],
   "source": [
    "from typing import Dict\n",
    "\n",
    "\n",
    "def stats_verify(results):\n",
    "    valid = 0\n",
    "    invalid_trufflehog = 0\n",
    "    invalid_llama = 0\n",
    "    for secret, secret_info in results.items():\n",
    "        if secret_info.verified:\n",
    "            valid += 1\n",
    "        else:\n",
    "            if secret_info.reason == \"trufflehog\":\n",
    "                invalid_trufflehog += 1\n",
    "            else:\n",
    "                invalid_llama += 1\n",
    "    return {\"valid\": valid, \"invalid_trufflehog\": invalid_trufflehog, \"invalid_llama\": invalid_llama}\n",
    "\n",
    "def compare_results(results1, results2):\n",
    "    all_keys = set(results1.keys()).union(set(results2.keys()))\n",
    "\n",
    "    stats = {}\n",
    "    for key in all_keys:\n",
    "        if key in results1 and key in results2:\n",
    "            if results1[key].verified or results2[key].verified:\n",
    "                stats[\"both_verified\"] = stats.get(\"both_verified\", 0) + 1\n",
    "            elif not results1[key].verified or not results2[key].verified:\n",
    "                stats[\"both_not_verified\"] = stats.get(\"both_not_verified\", 0) + 1\n",
    "        elif key in results1 and key not in results2:\n",
    "            if results1[key].verified:\n",
    "                stats[\"results_1_verified\"] = stats.get(\"results_1_verified\", 0) + 1\n",
    "            elif not results1[key].verified :\n",
    "                stats[\"results_1_not_verified\"] = stats.get(\"results_1_not_verified\", 0) + 1\n",
    "        elif key not in results1 and key in results2:\n",
    "            if results2[key].verified:\n",
    "                stats[\"results_2_verified\"] = stats.get(\"results_2_verified\", 0) + 1\n",
    "            elif not results2[key].verified:\n",
    "                stats[\"results_2_not_verified\"] = stats.get(\"results_2_not_verified\", 0) + 1\n",
    "        else:\n",
    "            print(\"Error\")\n",
    "    return stats\n",
    "\n",
    "\n",
    "def compare_android_and_ios(results: Dict[str,Secret], matching_apps):\n",
    "    result = {\"both\": 0, \"only_android\": 0, \"only_ios\": 0}\n",
    "    for secret, secret_info in results.items():\n",
    "        if not secret_info.verified:\n",
    "            continue\n",
    "\n",
    "        cross_platform = []\n",
    "        for app in secret_info.apps:\n",
    "            if app.platform == \"ios\":\n",
    "                current = AppInfo()\n",
    "                current.name = matching_apps.get(app.name, '')\n",
    "                current.platform = \"android\"\n",
    "                if current in secret_info.apps:\n",
    "                    cross_platform.append(current)\n",
    "                    cross_platform.append(app)\n",
    "\n",
    "        result[\"both\"] += int(len(cross_platform) / 2)\n",
    "        for app in secret_info.apps:\n",
    "            if app in cross_platform:\n",
    "                continue\n",
    "            if app.platform == \"ios\":\n",
    "                result[\"only_ios\"] += 1\n",
    "            elif app.platform == \"android\":\n",
    "                result[\"only_android\"] += 1\n",
    "\n",
    "    result[\"android\"] = result[\"only_android\"] + result[\"both\"]\n",
    "    result[\"ios\"] = result[\"only_ios\"] + result[\"both\"]\n",
    "    return result\n",
    "\n",
    "\n",
    "def get_app_stats(results):\n",
    "    result_dict = {\"android\": set(), \"ios\": set()}\n",
    "    for secret, secret_info in results.items():\n",
    "        if not secret_info.verified:\n",
    "            continue\n",
    "        for app in secret_info.apps:\n",
    "            if app.platform == \"android\":\n",
    "                result_dict[\"android\"].add(app.name)\n",
    "            elif app.platform == \"ios\":\n",
    "                result_dict[\"ios\"].add(app.name)\n",
    "\n",
    "    for key, value in result_dict.items():\n",
    "        result_dict[key] = len(value)\n",
    "    return result_dict\n",
    "\n",
    "def get_number_of_apps_with_secret(results, matching_apps, remove = False):\n",
    "    result = {}\n",
    "    for secret, secret_info in results.items():\n",
    "        if not secret_info.verified:\n",
    "            continue\n",
    "        count = len(secret_info.apps)\n",
    "        if not remove:\n",
    "            for app in secret_info.apps:\n",
    "                if app.platform == \"ios\":\n",
    "                    current = AppInfo()\n",
    "                    current.name = matching_apps.get(app.name, '')\n",
    "                    current.platform = \"android\"\n",
    "                    if current in secret_info.apps:\n",
    "                        count -= 1\n",
    "        result[secret] = count\n",
    "    return result\n",
    "\n",
    "\n",
    "def count_diff(result_1, result_2):\n",
    "    count = 0\n",
    "    for k, v in result_1.items():\n",
    "        count = count + result_1.get(k, 0) - result_2.get(k, 0)\n",
    "    return count\n",
    "        \n",
    "def get_formated_results(results, total = 10331):\n",
    "    formatted = {}\n",
    "    if total is None or total == 0:\n",
    "        total = 0\n",
    "        for k,v in results.items():\n",
    "            total += v\n",
    "\n",
    "    for k,v in results.items():\n",
    "        if total == 0:\n",
    "            continue\n",
    "        formatted[k] = f\"{v} ({(v/total)*100:.2f}%)\"\n",
    "    return formatted\n",
    "\n",
    "def get_android_ios_app_stats(results, matching_apps):\n",
    "    result = {\"android\": set(), \"ios\": set(), \"both\": []}\n",
    "    for secret, secret_info in results.items():\n",
    "        if not secret_info.verified:\n",
    "            continue\n",
    "        for app in secret_info.apps:\n",
    "            if app.platform == \"android\":\n",
    "                result[\"android\"].add(app.name)\n",
    "            elif app.platform == \"ios\":\n",
    "                result[\"ios\"].add(app.name)\n",
    "        \n",
    "    for app in result[\"ios\"]:\n",
    "        if matching_apps[app] in result[\"android\"]:\n",
    "            result[\"both\"].append(1)\n",
    "\n",
    "    result = {k: len(v) for k,v in result.items()}\n",
    "    result[\"only_ios\"] = result[\"ios\"] - result[\"both\"]\n",
    "    result[\"only_android\"] = result[\"android\"] - result[\"both\"]\n",
    "\n",
    "    return result\n",
    "\n",
    "\n",
    "\n",
    "def get_stat_values(result):\n",
    "    all = []\n",
    "    more_than_one = 0 \n",
    "    for r, v in result.items():\n",
    "        all.append(v)\n",
    "        if v> 1:\n",
    "            more_than_one += 1\n",
    "    \n",
    "    return statistics.mean(all), statistics.median(all), statistics.stdev(all), statistics.variance(all), max(all), more_than_one\n",
    "\n",
    "\n"
   ]
  },
  {
   "cell_type": "code",
   "execution_count": null,
   "metadata": {},
   "outputs": [],
   "source": [
    "get_formated_results(stats_verify(results_both), None)"
   ]
  },
  {
   "cell_type": "code",
   "execution_count": null,
   "metadata": {},
   "outputs": [],
   "source": [
    "stats_verify(results_2023)[\"valid\"] + stats_verify(results_2023)[\"invalid_trufflehog\"] + stats_verify(results_2023)[\"invalid_llama\"]"
   ]
  },
  {
   "cell_type": "code",
   "execution_count": null,
   "metadata": {},
   "outputs": [],
   "source": [
    "get_stats_detector(results_2023, False).to_csv(os.path.join(output_dir,\"2023_invalid.csv\"))"
   ]
  },
  {
   "cell_type": "code",
   "execution_count": null,
   "metadata": {},
   "outputs": [],
   "source": [
    "get_stats_detector(results_2023)"
   ]
  },
  {
   "cell_type": "code",
   "execution_count": null,
   "metadata": {},
   "outputs": [],
   "source": [
    "sum(stats_verify(results_2023).values())"
   ]
  },
  {
   "cell_type": "code",
   "execution_count": null,
   "metadata": {},
   "outputs": [],
   "source": [
    "sum(stats_verify(results_2024).values())"
   ]
  },
  {
   "cell_type": "code",
   "execution_count": null,
   "metadata": {},
   "outputs": [],
   "source": [
    "get_stats_detector(results_2024, False)"
   ]
  },
  {
   "cell_type": "code",
   "execution_count": null,
   "metadata": {},
   "outputs": [],
   "source": [
    "get_formated_results(stats_verify(results_both_android), None)"
   ]
  },
  {
   "cell_type": "code",
   "execution_count": null,
   "metadata": {},
   "outputs": [],
   "source": [
    "get_formated_results(stats_verify(results_both_ios), None)"
   ]
  },
  {
   "cell_type": "code",
   "execution_count": null,
   "metadata": {},
   "outputs": [],
   "source": [
    "compare_results(results_both_android, results_both_ios)"
   ]
  },
  {
   "cell_type": "code",
   "execution_count": null,
   "metadata": {},
   "outputs": [],
   "source": [
    "get_formated_results(stats_verify(results_both), None)"
   ]
  },
  {
   "cell_type": "code",
   "execution_count": null,
   "metadata": {},
   "outputs": [],
   "source": [
    "get_formated_results(stats_verify(results_2024), None)"
   ]
  },
  {
   "cell_type": "code",
   "execution_count": null,
   "metadata": {},
   "outputs": [],
   "source": [
    "compare_results(results_2023, results_2024)"
   ]
  },
  {
   "cell_type": "code",
   "execution_count": null,
   "metadata": {},
   "outputs": [],
   "source": [
    "# Compare is number of credentials \n",
    "compare_android_and_ios(results_2024, matching)"
   ]
  },
  {
   "cell_type": "code",
   "execution_count": null,
   "metadata": {},
   "outputs": [],
   "source": [
    "compare_android_and_ios(results_2023, matching)"
   ]
  },
  {
   "cell_type": "code",
   "execution_count": null,
   "metadata": {},
   "outputs": [],
   "source": [
    "compare_android_and_ios(results_both, matching)"
   ]
  },
  {
   "cell_type": "code",
   "execution_count": null,
   "metadata": {},
   "outputs": [],
   "source": [
    "get_formated_results(get_android_ios_app_stats(results_both,matching))"
   ]
  },
  {
   "cell_type": "code",
   "execution_count": null,
   "metadata": {},
   "outputs": [],
   "source": [
    "#Multiple apps \n",
    "# statistics.mean(all), statistics.median(all), statistics.stdev(all), statistics.variance(all), max(all), more_than_one\n",
    "get_stat_values(get_number_of_apps_with_secret(results_both, matching, remove=False))"
   ]
  },
  {
   "cell_type": "code",
   "execution_count": null,
   "metadata": {},
   "outputs": [],
   "source": [
    "get_stat_values(get_number_of_apps_with_secret(results_2023, matching, remove=True))"
   ]
  },
  {
   "cell_type": "code",
   "execution_count": null,
   "metadata": {},
   "outputs": [],
   "source": [
    "\n",
    "get_stat_values(get_number_of_apps_with_secret(results_2023, matching, remove=False))"
   ]
  },
  {
   "cell_type": "code",
   "execution_count": null,
   "metadata": {},
   "outputs": [],
   "source": [
    "def sort_dict_desc(dictionary):\n",
    "    return dict(sorted(dictionary.items(), key=lambda item: item[1], reverse=True))\n",
    "\n",
    "\n",
    "def sort_dict_keys_desc(dictionary):\n",
    "    return dict(sorted(dictionary.items(), key=lambda item: item[0], reverse=True))\n",
    "\n",
    "\n",
    "sort_dict_desc(get_number_of_apps_with_secret(results_2023, matching))"
   ]
  },
  {
   "cell_type": "code",
   "execution_count": null,
   "metadata": {},
   "outputs": [],
   "source": [
    "sort_dict_desc(get_number_of_apps_with_secret(results_2024, matching))\n"
   ]
  },
  {
   "cell_type": "code",
   "execution_count": null,
   "metadata": {},
   "outputs": [],
   "source": [
    "all_results = get_results(\"/to_verify_v2\")\n",
    "for k,v in all_results.items():\n",
    "    if k not in results_2023 and k not in results_2024 and v.verified:\n",
    "        print(k)\n",
    "        print(v)"
   ]
  },
  {
   "cell_type": "code",
   "execution_count": null,
   "metadata": {},
   "outputs": [],
   "source": [
    "android_metadata = load_json(android_metadata_path)\n"
   ]
  },
  {
   "cell_type": "code",
   "execution_count": null,
   "metadata": {},
   "outputs": [],
   "source": [
    "def get_installation_id(app, platform):\n",
    "    if platform.lower() == \"ios\":\n",
    "        return int(android_metadata[matching[app]].get(\"minInstal\", 10))\n",
    "    else:\n",
    "        return int(android_metadata[app].get(\"minInstal\", 10))\n",
    "    \n",
    "def get_all_installation_stats(all_apps):\n",
    "    tmp = []\n",
    "    for app in all_apps:\n",
    "        if app.platform == \"android\":\n",
    "            tmp.append(get_installation_id(app.name, \"android\"))\n",
    "    above_100_mio = 0 \n",
    "    for result in tmp:\n",
    "        if result >= 100000000:\n",
    "            above_100_mio += 1\n",
    "\n",
    "\n",
    "    return {\"avg\": statistics.mean(tmp), \"median\": statistics.median(tmp), \"stdev\": statistics.stdev(tmp), \"variance\": statistics.variance(tmp), \"mad\": float(stats.median_abs_deviation(tmp)), \"max\": max(tmp), \"min\": min(tmp), \"100_mio\": above_100_mio}\n"
   ]
  },
  {
   "cell_type": "code",
   "execution_count": null,
   "metadata": {},
   "outputs": [],
   "source": [
    "def get_secrets_per_android_app_id(results, valid= True):\n",
    "    secrets = {}\n",
    "    for secret, secret_info in results.items():\n",
    "        if secret_info.verified is not valid:\n",
    "            continue\n",
    "\n",
    "        for app in secret_info.apps:\n",
    "            detector_name = (secret_info.full_details[0].get(\"DetectorName\", \"\"))\n",
    "\n",
    "            if app.platform.lower() == \"android\":\n",
    "                current = secrets.get(app.name, {})\n",
    "                current_secrets = current.get(detector_name, set())\n",
    "                current_secrets.add(secret)\n",
    "                current[detector_name] = current_secrets\n",
    "                secrets[app.name] = current\n",
    "            else:\n",
    "                current = secrets.get(matching[app.name], {})\n",
    "                current_secrets = current.get(detector_name, set())\n",
    "                current_secrets.add(secret)\n",
    "                current[detector_name] = current_secrets\n",
    "                secrets[matching[app.name]] = current\n",
    "    return secrets\n",
    "\n",
    "\n",
    "def get_secrets_per_app_id(results, valid= True):\n",
    "    secrets = {}\n",
    "    for secret, secret_info in results.items():\n",
    "        if secret_info.verified is not valid:\n",
    "            continue\n",
    "        for app in secret_info.apps:\n",
    "            detector_name = (secret_info.full_details[0].get(\"DetectorName\", \"\"))\n",
    "            current = secrets.get(app.name + \"_\" + app.platform, {})\n",
    "            current_secrets = current.get(detector_name, set())\n",
    "            current_secrets.add(secret)\n",
    "            current[detector_name] = current_secrets\n",
    "            secrets[app.name + \"_\" + app.platform] = current\n",
    "    return secrets\n",
    "\n",
    "\n",
    "def get_per_app_id(results, valid= True):\n",
    "    secrets = {}\n",
    "    for secret, secret_info in results.items():\n",
    "        if secret_info.verified is not valid:\n",
    "            continue\n",
    "        for app in secret_info.apps:\n",
    "            current = secrets.get(app.name + \"_\" + app.platform, [])\n",
    "            current.append(secret)\n",
    "            secrets[app.name + \"_\" + app.platform] = current\n",
    "    return secrets\n",
    "\n",
    "def create_installation_table_platform(results, already_per_app = False):\n",
    "    if already_per_app:\n",
    "        per_app = results\n",
    "    else:\n",
    "        per_app = get_per_app_id(results)\n",
    "    installation = {\"android\": {}, \"ios\": {}, \"both\": {}}\n",
    "    all_android_ids = set()\n",
    "\n",
    "    for app, secrets in per_app.items():\n",
    "        if app.endswith(\"_ios\"):\n",
    "            name = app[:-4]\n",
    "            installation_count = get_installation_id(name, \"ios\")\n",
    "            ios = installation[\"ios\"]\n",
    "            ios[installation_count] = ios.get(installation_count, 0) + 1\n",
    "            installation[\"ios\"] = ios\n",
    "            all_android_ids.add(matching[name])\n",
    "\n",
    "        else:\n",
    "            name = app[:-8]\n",
    "            installation_count = get_installation_id(name, \"android\")\n",
    "            android = installation[\"android\"]\n",
    "            android[installation_count] = android.get(installation_count, 0) + 1\n",
    "            installation[\"android\"] = android\n",
    "            all_android_ids.add(name)\n",
    "\n",
    "    for app in all_android_ids:\n",
    "        installation_count = get_installation_id(app, \"android\")\n",
    "        both = installation[\"both\"]\n",
    "        both[installation_count] = both.get(installation_count, 0) + 1\n",
    "        installation[\"both\"] = both\n",
    "\n",
    "    for k,v in installation.items():\n",
    "        installation[k] = sort_dict_keys_desc(v)\n",
    "        \n",
    "    return installation\n",
    "\n",
    "\n",
    "\n",
    "def only_per_android_id(result):\n",
    "    to_return = {}\n",
    "    for k,v in result.items():\n",
    "        if k.endswith(\"_android\"):\n",
    "            to_return[k] = v\n",
    "        else:\n",
    "            name = k[:-4]\n",
    "            android = matching[name]\n",
    "            to_return[f\"{android}_android\"] = v\n",
    "    return to_return\n",
    "\n",
    "\n",
    "\n",
    "def create_installation_table_years(result_1, result_2, already_per_app = False):\n",
    "    # TODO: merge - cross-platform yes or no? currently yes\n",
    "    if already_per_app:\n",
    "        per_app_1 = result_1\n",
    "        per_app_2 = result_2\n",
    "    else:\n",
    "        per_app_1 = get_per_app_id(result_1)\n",
    "        per_app_2 = get_per_app_id(result_2)\n",
    "    per_app_1 = only_per_android_id(per_app_1)\n",
    "    per_app_2 = only_per_android_id(per_app_2)\n",
    "    installation = {\"2023\": {}, \"2024\": {}}\n",
    "    for app, secrets in per_app_1.items():\n",
    "\n",
    "        if app.endswith(\"_ios\"):\n",
    "            name = app[:-4]\n",
    "            installation_count = get_installation_id(name, \"ios\")\n",
    "        else:\n",
    "            name = app[:-8]\n",
    "            installation_count = get_installation_id(name, \"android\")\n",
    "        current = installation[\"2023\"]\n",
    "        current[installation_count] = current.get(installation_count, 0) + 1\n",
    "        installation[\"2023\"] = current\n",
    "\n",
    "    for app, secrets in per_app_2.items():\n",
    "\n",
    "        if app.endswith(\"_ios\"):\n",
    "            name = app[:-4]\n",
    "            installation_count = get_installation_id(name, \"ios\")\n",
    "        else:\n",
    "            name = app[:-8]\n",
    "            installation_count = get_installation_id(name, \"android\")\n",
    "        current = installation[\"2024\"]\n",
    "        current[installation_count] = current.get(installation_count, 0) + 1\n",
    "        installation[\"2024\"] = current\n",
    "        \n",
    "\n",
    "    for k,v in installation.items():\n",
    "        installation[k] = sort_dict_keys_desc(v)\n",
    "    return installation\n",
    "\n",
    "\n",
    "\n",
    "def get_dict_installation(results):\n",
    "    secrets = get_secrets_per_android_app_id(results)\n",
    "    installation = {}\n",
    "    for app, secret in secrets.items():\n",
    "        #if \"gitlab\" not in str(secret) and \"Github\" not in str(secret) and \"@bitbucket\" not in str(secret) and \"jenkins\" not in str(secret):\n",
    "        #    #print(secret)\n",
    "        #    continue\n",
    "        #else:\n",
    "        #    print(secret)\n",
    "        tmp = get_installation_id(app, \"android\")\n",
    "        if tmp == None:\n",
    "            tmp = -1\n",
    "        current_install = int(tmp)\n",
    "        current = installation.get(current_install, set())\n",
    "        current.add(app)\n",
    "        installation[current_install] = current\n",
    "    return installation\n",
    "\n",
    "def get_all_android_installation_ids_above(all_apps, min_installation=100000000):\n",
    "    installation = set()\n",
    "    for app in all_apps:\n",
    "        if app.platform == \"ios\":\n",
    "            continue\n",
    "        tmp = get_installation_id(app.name, app.platform)\n",
    "        if tmp == None:\n",
    "            tmp = -1\n",
    "        current_install = int(tmp)\n",
    "        if current_install >= min_installation:\n",
    "            installation.add(app)\n",
    "    return installation\n",
    "\n",
    "\n",
    "\n",
    "def get_verified_credentials_above_installation(results, min_installation= 100000000):\n",
    "    to_return = {}\n",
    "\n",
    "    for info, secret in results.items():\n",
    "        for app in secret.apps:\n",
    "            installation = get_installation_id(app.name, app.platform)\n",
    "            if installation == None:\n",
    "                installation = -1\n",
    "            if installation >= min_installation:\n",
    "                to_return[info] = secret\n",
    "\n",
    "    return to_return\n",
    "\n",
    "\n",
    "def get_number_secrets_per_app_id(results):\n",
    "    result_new = {}\n",
    "    for app, secrets in results.items():\n",
    "        count = 0 \n",
    "        for detector, secret in secrets.items():\n",
    "            count += len(secret)\n",
    "        result_new[app] = count\n",
    "    return result_new\n",
    "\n",
    "\n",
    "\n",
    "\n",
    "\n"
   ]
  },
  {
   "cell_type": "code",
   "execution_count": null,
   "metadata": {},
   "outputs": [],
   "source": [
    "android_app_above_100_mio = get_all_android_installation_ids_above(all_apps_2023)\n"
   ]
  },
  {
   "cell_type": "code",
   "execution_count": null,
   "metadata": {},
   "outputs": [],
   "source": [
    "get_secrets_per_app_id(results_both_verified)"
   ]
  },
  {
   "cell_type": "code",
   "execution_count": null,
   "metadata": {},
   "outputs": [],
   "source": [
    "get_stat_values(get_number_secrets_per_app_id(get_secrets_per_app_id(results_both)))"
   ]
  },
  {
   "cell_type": "code",
   "execution_count": null,
   "metadata": {},
   "outputs": [],
   "source": [
    "get_secrets_per_android_app_id(results_2023)"
   ]
  },
  {
   "cell_type": "code",
   "execution_count": null,
   "metadata": {},
   "outputs": [],
   "source": [
    "get_dict_installation(results_2024)"
   ]
  },
  {
   "cell_type": "code",
   "execution_count": null,
   "metadata": {},
   "outputs": [],
   "source": []
  },
  {
   "cell_type": "code",
   "execution_count": null,
   "metadata": {},
   "outputs": [],
   "source": [
    "sort_dict_desc(get_number_of_apps_with_secret(jwt_2023, matching))\n"
   ]
  },
  {
   "cell_type": "code",
   "execution_count": null,
   "metadata": {},
   "outputs": [],
   "source": []
  },
  {
   "cell_type": "code",
   "execution_count": null,
   "metadata": {},
   "outputs": [],
   "source": [
    "sort_dict_desc(get_number_of_apps_with_secret(jwt_2024, matching))\n"
   ]
  },
  {
   "cell_type": "code",
   "execution_count": null,
   "metadata": {},
   "outputs": [],
   "source": [
    "\n",
    "sort_dict_desc(get_number_of_apps_with_secret(private_keys_2023, matching))\n"
   ]
  },
  {
   "cell_type": "code",
   "execution_count": null,
   "metadata": {},
   "outputs": [],
   "source": [
    "sort_dict_desc(get_number_of_apps_with_secret(private_keys_2024, matching))\n"
   ]
  },
  {
   "cell_type": "code",
   "execution_count": null,
   "metadata": {},
   "outputs": [],
   "source": [
    "compare_results(private_keys_2023, private_keys_2024)"
   ]
  },
  {
   "cell_type": "code",
   "execution_count": null,
   "metadata": {},
   "outputs": [],
   "source": [
    "compare_results(jwt_2023, jwt_2024)"
   ]
  },
  {
   "cell_type": "code",
   "execution_count": null,
   "metadata": {},
   "outputs": [],
   "source": [
    "stats_verify(private_keys_both)"
   ]
  },
  {
   "cell_type": "code",
   "execution_count": null,
   "metadata": {},
   "outputs": [],
   "source": [
    "stats_verify(private_keys_2023)"
   ]
  },
  {
   "cell_type": "code",
   "execution_count": null,
   "metadata": {},
   "outputs": [],
   "source": [
    "stats_verify(private_keys_2024)"
   ]
  },
  {
   "cell_type": "code",
   "execution_count": null,
   "metadata": {},
   "outputs": [],
   "source": [
    "stats_verify(jwt_2023)"
   ]
  },
  {
   "cell_type": "code",
   "execution_count": null,
   "metadata": {},
   "outputs": [],
   "source": [
    "stats_verify(jwt_2024)"
   ]
  },
  {
   "cell_type": "code",
   "execution_count": null,
   "metadata": {},
   "outputs": [],
   "source": [
    "stats_verify(jwt_both)"
   ]
  },
  {
   "cell_type": "code",
   "execution_count": null,
   "metadata": {},
   "outputs": [],
   "source": [
    "get_formated_results(get_app_stats(private_keys_both))"
   ]
  },
  {
   "cell_type": "code",
   "execution_count": null,
   "metadata": {},
   "outputs": [],
   "source": [
    "get_formated_results(get_app_stats(private_keys_2023))"
   ]
  },
  {
   "cell_type": "code",
   "execution_count": null,
   "metadata": {},
   "outputs": [],
   "source": [
    "get_formated_results(get_app_stats(jwt_both))"
   ]
  },
  {
   "cell_type": "code",
   "execution_count": null,
   "metadata": {},
   "outputs": [],
   "source": [
    "\n",
    "jwt_both_without_unity_token = {k:v for k,v in jwt_both.items()}\n",
    "jwt_both_without_unity_token.pop(\"eyJhbGciOiJIUzI1NiIsInR5cCI6IkpXVCJ9.eyJhcHAiOjc3LCJhcHBMZXZlbENvcHBhIjp0cnVlLCJhdHQiOjAsImF1YyI6MjE4LCJhdWkiOjI0OSwiYXpwIjoiNTAwNjA5MWEtZWRjOC00ODExLTlmZTAtMTE1YTgwZjA1YThhIiwiY2FsY3VsYXRlZENvcHBhIjp0cnVlLCJjb25zZW50IjpmYWxzZSwiY29udGV4dHVhbE9ubHkiOmZhbHNlLCJjcGkiOjU1LCJjcmVhdGVkIjoxNjM2MDQzMzQ3MDAwLCJkbHQiOjAsImR0IjowLCJldHQiOlsyMTQ3NDgzOTQ5LDUzNDksNzM0Niw1MzQ1LDg0MDcsODg5MSw3NjUxLDU3NTYsODg2MSw4NTUyXSwiZXhwIjoxNjY4MTY2MDYxLCJpYXAiOjEzLCJpYXQiOjE2NjY5NTY0NjEsImlzcyI6ImFkcy1zZGstY29uZmlndXJhdGlvbi51bml0eWFkcy51bml0eTNkLmNvbSIsImxlZ2FsVGVycml0b3J5IjoxLCJsdHYiOjEyOCwibWl4ZWQiOmZhbHNlLCJwcm8iOjExNSwicHJveGllZCI6ZmFsc2UsInNzIjoiZWFiZWFhMjktMDM1Ni00MjIzLWJjYWYtYTU0ZGM4NDAxMDFkIiwic3ViIjoibVN0UkVqZEYyZDFVWmFiSW1xUUt6NG5BM2kzTU1mMEpNMy9XOG9xcXJyMWdSWk95dGdvOXhTR1JYMEl4YmtKU1l4ZTZSZz09IiwidGd0IjoxNTksInhwciI6Mn0.zz9nRbt5z8HF6_3RvY9EdV8YQkTY1F_UbyAYGI9pmok\")\n",
    "get_formated_results(get_app_stats(jwt_both_without_unity_token))"
   ]
  },
  {
   "cell_type": "code",
   "execution_count": null,
   "metadata": {},
   "outputs": [],
   "source": [
    "get_formated_results(get_app_stats(jwt_2023))"
   ]
  },
  {
   "cell_type": "code",
   "execution_count": null,
   "metadata": {},
   "outputs": [],
   "source": [
    "get_formated_results(get_app_stats(jwt_2024))"
   ]
  },
  {
   "cell_type": "code",
   "execution_count": null,
   "metadata": {},
   "outputs": [],
   "source": [
    "get_formated_results(get_app_stats(results_2023))"
   ]
  },
  {
   "cell_type": "code",
   "execution_count": null,
   "metadata": {},
   "outputs": [],
   "source": [
    "get_app_stats(results_2024)"
   ]
  },
  {
   "cell_type": "code",
   "execution_count": null,
   "metadata": {},
   "outputs": [],
   "source": [
    "get_app_stats(private_keys_2024)"
   ]
  },
  {
   "cell_type": "code",
   "execution_count": null,
   "metadata": {},
   "outputs": [],
   "source": [
    "def more_than_x(results, x = 1):\n",
    "    count = 0\n",
    "    for secret, c in results.items():\n",
    "        if c > x:\n",
    "            count += 1\n",
    "    return count\n",
    "\n",
    "\n"
   ]
  },
  {
   "cell_type": "code",
   "execution_count": null,
   "metadata": {},
   "outputs": [],
   "source": [
    "print(more_than_x(get_number_of_apps_with_secret(private_keys_both, matching)))\n",
    "print(more_than_x(get_number_of_apps_with_secret(private_keys_both, matching), x = 100))"
   ]
  },
  {
   "cell_type": "code",
   "execution_count": null,
   "metadata": {},
   "outputs": [],
   "source": [
    "print(more_than_x(get_number_of_apps_with_secret(private_keys_2023, matching)))\n",
    "print(more_than_x(get_number_of_apps_with_secret(private_keys_2023, matching), x = 100))"
   ]
  },
  {
   "cell_type": "code",
   "execution_count": null,
   "metadata": {},
   "outputs": [],
   "source": [
    "more_than_x(get_number_of_apps_with_secret(private_keys_2024, matching))"
   ]
  },
  {
   "cell_type": "code",
   "execution_count": null,
   "metadata": {},
   "outputs": [],
   "source": [
    "import time\n",
    "\n",
    "def jwt_token_stats(results, debug = False):\n",
    "    result = {\"no_exp\": 0, \"long_valid\":0 , \"short_valid\": 0, \"expired\": 0, 'admin': 0, 'admin_expired': 0, 'total': 0}\n",
    "    for secret, secret_info in results.items():\n",
    "        result[\"total\"] += 1\n",
    "\n",
    "        try:\n",
    "            decoded = jwt.decode(secret, options={\"verify_signature\": False})\n",
    "            if debug:\n",
    "                print(secret)\n",
    "                print(decoded)\n",
    "                print(secret_info.apps)\n",
    "                print(secret_info.files)\n",
    "                if \"exp\" in decoded and int(decoded[\"exp\"]) < int(time.time()):\n",
    "                    print(\"Expired\")\n",
    "            if \"admin\" in str(decoded):\n",
    "                result[\"admin\"] += 1\n",
    "                if \"exp\" in decoded and decoded[\"exp\"] < int(time.time()):\n",
    "                    result[\"admin_expired\"] += 1\n",
    "            if \"exp\" not in decoded:\n",
    "                result[\"no_exp\"] += 1\n",
    "            else:\n",
    "                if int(decoded[\"exp\"]) < int(time.time()):\n",
    "                    result[\"expired\"] += 1\n",
    "                elif int(decoded[\"exp\"]) < int(time.time()) + 6 * 30 * 24 * 60 * 60:\n",
    "                    result[\"short_valid\"] += 1\n",
    "                elif int(decoded[\"exp\"]) >  int(time.time())  + 10 * 12 * 30 * 24 * 60 * 60:\n",
    "                    result[\"long_valid\"] += 1\n",
    "        except ValueError:\n",
    "            continue\n",
    "\n",
    "\n",
    "    return result"
   ]
  },
  {
   "cell_type": "code",
   "execution_count": null,
   "metadata": {},
   "outputs": [],
   "source": []
  },
  {
   "cell_type": "code",
   "execution_count": null,
   "metadata": {},
   "outputs": [],
   "source": [
    "get_formated_results(jwt_token_stats(jwt_both),jwt_token_stats(jwt_both)[\"total\"])"
   ]
  },
  {
   "cell_type": "code",
   "execution_count": null,
   "metadata": {},
   "outputs": [],
   "source": [
    "len(jwt_2023)"
   ]
  },
  {
   "cell_type": "code",
   "execution_count": null,
   "metadata": {},
   "outputs": [],
   "source": [
    "jwt_token_stats(jwt_2023, debug=True)"
   ]
  },
  {
   "cell_type": "code",
   "execution_count": null,
   "metadata": {},
   "outputs": [],
   "source": [
    "print(more_than_x(get_number_of_apps_with_secret(jwt_both, matching), x = 1))\n",
    "print(more_than_x(get_number_of_apps_with_secret(jwt_both, matching), x = 100))"
   ]
  },
  {
   "cell_type": "code",
   "execution_count": null,
   "metadata": {},
   "outputs": [],
   "source": [
    "sorted_jwt_both = sort_dict_desc(get_number_of_apps_with_secret(jwt_both, matching))\n",
    "sorted_jwt_both"
   ]
  },
  {
   "cell_type": "code",
   "execution_count": null,
   "metadata": {},
   "outputs": [],
   "source": [
    "def categorize_file(file):\n",
    "    if file.endswith(\".dex\") or file.endswith(\".so\"):\n",
    "        return \"Binary\"\n",
    "    elif file.endswith(\".arsc\") or file.endswith(\"resources.assets\") :\n",
    "        return \"Resources\"\n",
    "    elif file.endswith(\".jsbundle\") or \"index.android.bundle\" == file or file.endswith(\".js\") or file.endswith(\"js.map\"):\n",
    "        return \"Web\"\n",
    "    elif \".\" not in file:\n",
    "        return \"Binary\"\n",
    "    elif file.endswith(\"Info.plist\"):\n",
    "        return \"Resources\"\n",
    "    elif file.endswith(\".xcconfig\") or file.endswith(\".swift\") or file.endswith(\".java\") or file.endswith(\".sh\") or file == \".gitlab-ci.yml\":\n",
    "        print(file)\n",
    "        return \"Unintended Code\"\n",
    "    elif file.endswith(\".json\") or file.endswith(\".xml\") or file.endswith(\".properties\") or file.endswith(\".config\") or file.endswith(\".bundle\") or file == \"resource.corona-archive\" or file.endswith(\".plist\"):\n",
    "\n",
    "        return \"Configuration\"\n",
    "    elif file == \"global-metadata.dat\" or file == \"INTLConfig.ini\" or file.endswith(\"unity3d\") or file == \"MSDKConfig.ini\" or file == \"Settings.rb\" or file == \"netease_global.data\" or file == \"login.cfg\" or file.endswith(\".dart\"):\n",
    "\n",
    "        return \"Library\"\n",
    "    else: #Manual checked before\n",
    "        return \"Binary\"\n",
    "\n",
    "\n",
    "\n",
    "\n",
    "def classify_files(results, format= False):\n",
    "    result = {}\n",
    "    resultsAndroid = {}\n",
    "    resultsiOS = {}\n",
    "    result_differents = {}\n",
    "    for secret, secret_info in results.items():\n",
    "        if not secret_info.verified:\n",
    "            continue\n",
    "        \n",
    "        current = set()\n",
    "        current_android =set()\n",
    "        current_ios = set()\n",
    "        for file in secret_info.file_paths:\n",
    "            filename = os.path.basename(file)\n",
    "            current.add(categorize_file(filename))\n",
    "            if \"_ios\" in file:\n",
    "                current_ios.add(categorize_file(filename))\n",
    "            else:\n",
    "                current_android.add(categorize_file(filename))\n",
    "\n",
    "\n",
    "        for category in current:\n",
    "            result[category] = result.get(category, 0) + 1\n",
    "        for category in current_android:\n",
    "            resultsAndroid[category] = resultsAndroid.get(category, 0) + 1\n",
    "        for category in current_ios:\n",
    "            resultsiOS[category] = resultsiOS.get(category, 0) + 1\n",
    "        if len(current_android) > 0 and len(current_ios) > 0:\n",
    "            result_differents[\"total\"] = result_differents.get(\"total\", 0) + 1\n",
    "            if current_android == current_ios:\n",
    "                result_differents[\"both\"] = result_differents.get(\"both\", 0) + 1\n",
    "            else:\n",
    "                result_differents[\"different\"] = result_differents.get(\"different\", 0) + 1\n",
    "                print(\"different android and ios\")\n",
    "\n",
    "        result[\"total\"] = result.get(\"total\", 0) + 1\n",
    "        if len(current_android) > 0:\n",
    "            resultsAndroid[\"total\"] = resultsAndroid.get(\"total\", 0) + 1\n",
    "        if len(current_ios) > 0:\n",
    "            resultsiOS[\"total\"] = resultsiOS.get(\"total\", 0) + 1\n",
    "    \n",
    "    result = sort_dict_desc(result)\n",
    "    resultsAndroid = sort_dict_desc(resultsAndroid)\n",
    "    resultsiOS = sort_dict_desc(resultsiOS)\n",
    "    \n",
    "    if format:\n",
    "        return get_formated_results(result, total=result[\"total\"]), get_formated_results(resultsAndroid, total=resultsAndroid[\"total\"]), get_formated_results(resultsiOS, total=resultsiOS[\"total\"]), get_formated_results(result_differents, total=result_differents[\"total\"])\n",
    "\n",
    "    return result, resultsAndroid, resultsiOS, result_differents"
   ]
  },
  {
   "cell_type": "code",
   "execution_count": null,
   "metadata": {},
   "outputs": [],
   "source": [
    "def create_classified_file_table(results, format = False):\n",
    "    all, android, ios, different = classify_files(results, format=format)\n",
    "    all = sort_dict_desc(all)\n",
    "    \n",
    "\n",
    "    return pd.DataFrame([android, ios,all], index=[\"Android\", \"iOS\",\"Both\"]).transpose()"
   ]
  },
  {
   "cell_type": "code",
   "execution_count": null,
   "metadata": {},
   "outputs": [],
   "source": [
    "classify_files(results_both, format=True)"
   ]
  },
  {
   "cell_type": "code",
   "execution_count": null,
   "metadata": {},
   "outputs": [],
   "source": [
    "_,_,_, different = classify_files(results_both, format=True)"
   ]
  },
  {
   "cell_type": "code",
   "execution_count": null,
   "metadata": {},
   "outputs": [],
   "source": [
    "different"
   ]
  },
  {
   "cell_type": "code",
   "execution_count": null,
   "metadata": {},
   "outputs": [],
   "source": [
    "create_classified_file_table(results_both, format=True)"
   ]
  },
  {
   "cell_type": "code",
   "execution_count": null,
   "metadata": {},
   "outputs": [],
   "source": [
    "print(create_classified_file_table(results_both, format=True).to_latex())"
   ]
  },
  {
   "cell_type": "code",
   "execution_count": null,
   "metadata": {},
   "outputs": [],
   "source": [
    "create_classified_file_table(results_2023, format=True)"
   ]
  },
  {
   "cell_type": "code",
   "execution_count": null,
   "metadata": {},
   "outputs": [],
   "source": [
    "create_classified_file_table(results_2024, format=True)"
   ]
  },
  {
   "cell_type": "code",
   "execution_count": null,
   "metadata": {},
   "outputs": [],
   "source": [
    "classify_files(results_both, format=True)"
   ]
  },
  {
   "cell_type": "code",
   "execution_count": null,
   "metadata": {},
   "outputs": [],
   "source": [
    "classify_files(results_2023, format=True)"
   ]
  },
  {
   "cell_type": "code",
   "execution_count": null,
   "metadata": {},
   "outputs": [],
   "source": [
    "def cacluate_stats(df_result):\n",
    "    result = {}\n",
    "    for column in df_result.columns:\n",
    "        current = []\n",
    "        for idx, value in df_result[column].items():\n",
    "            for i in range(value):\n",
    "                current.append(idx)\n",
    "        if len(current) == 0:\n",
    "            continue\n",
    "        current_result = {\"avg\": statistics.mean(current), \"median\": statistics.median(current), \"stdev\": statistics.stdev(current), \"variance\": statistics.variance(current), \"mad\": float(stats.median_abs_deviation(current))} \n",
    "        result[column] = current_result\n",
    "    return result\n",
    "\n",
    "def create_table_installation_counts(results, total):\n",
    "    # finding_name -> category -> count - > number\n",
    "    category_table = {}\n",
    "    for finding, category_map in results.items():\n",
    "        for category, count_map in category_map.items():\n",
    "            current = category_table.get(category, {})\n",
    "            current_finding = current.get(finding, {})\n",
    "            for count, number in count_map.items():\n",
    "                current_finding[count] = current_finding.get(count, 0) + number\n",
    "            current[finding] = current_finding\n",
    "            category_table[category] = current\n",
    "    names = []\n",
    "    all_tables = []\n",
    "    for category, finding_map in category_table.items():\n",
    "        all_tables.append(pd.DataFrame(finding_map))\n",
    "        names.append(category)\n",
    "\n",
    "    merged_df = pd.concat(all_tables, keys=names, axis=1)\n",
    "    merged_df = merged_df.fillna(0)\n",
    "    merged_df = merged_df.astype(int)\n",
    "    merged_df = merged_df.sort_index(ascending=False)\n",
    "    tmp =  merged_df.loc[merged_df.index.astype(int) < 1000].sum()\n",
    "    merged_df = merged_df.drop(merged_df[merged_df.index.astype(int) < 1000].index)\n",
    "    merged_df.loc[0] = tmp\n",
    "    print(cacluate_stats(merged_df))\n",
    "\n",
    "\n",
    "    merged_df.index = merged_df.index.map(lambda x: f\"{x:,}+\")\n",
    "\n",
    "    merged_df.loc['Total'] = merged_df.sum()\n",
    "\n",
    "    #merged_df[\"0-999\"] = tmp\n",
    "\n",
    "    merged_df = merged_df.map(lambda x: f\"{x} ({(x/total)*100:.2f}%)\")\n",
    "    return merged_df\n"
   ]
  },
  {
   "cell_type": "code",
   "execution_count": null,
   "metadata": {},
   "outputs": [],
   "source": [
    "\n",
    "code_23 = load_json(code_2023_path)\n",
    "code_24 = load_json(code_2024_path)\n",
    "script_23 = load_json(scripts_2023_path)\n",
    "script_24 = load_json(scripts_2024_path)\n",
    "podfiles_23 = load_json(podfile_2023_path)\n",
    "podfiles_24 = load_json(podfile_2024_path)\n",
    "hidden_directory_23 = load_json(hidden_directory_2023_path)\n",
    "hidden_directory_24 = load_json(hidden_directory_2024_path)\n",
    "hidden_files_23 = load_json(hidden_files_2023_path)\n",
    "hidden_files_24 = load_json(hidden_files_2024_path)\n"
   ]
  },
  {
   "cell_type": "code",
   "execution_count": null,
   "metadata": {},
   "outputs": [],
   "source": [
    "def create_table_platforms(result, matching, df_name, total_android = 0, total_ios = 0):\n",
    "    android = []\n",
    "    ios = []\n",
    "    matching_apps = []\n",
    "    for k,v in result.items():\n",
    "        if k.endswith(\"_ios\"):\n",
    "            name = k[:-4]\n",
    "            ios.append(name)\n",
    "        else:\n",
    "            name = k[:-8]\n",
    "            android.append(name)\n",
    "    for app in ios:\n",
    "        if matching[app] in android:\n",
    "            matching_apps.append(app)\n",
    "    if total_android == 0 and total_ios == 0:\n",
    "        test = get_formated_results({\"Android\": len(android), \"iOS\": len(ios), \"Matching\": len(matching_apps)})\n",
    "    else:\n",
    "        test = get_formated_results({\"iOS\": len(ios), \"Matching\": len(matching_apps)}, total=total_ios)\n",
    "        test.update(get_formated_results({\"Android\": len(android)}, total=total_android))\n",
    "\n",
    "    \n",
    "    return pd.DataFrame(test, index=[df_name])\n",
    "\n",
    "def comparison_years(result_1, result_2, matching, name, total_android = 0, total_ios = 0):\n",
    "    output_1 = create_table_platforms(result_1,matching, name)\n",
    "    output_2 = create_table_platforms(result_2, matching, name, total_android=total_android, total_ios=total_ios)\n",
    "    return pd.concat([output_1, output_2], axis=1)\n",
    "\n",
    "\n",
    "def comparison_years_concat(results, matching, names, total_android = 0, total_ios = 0):\n",
    "    total = None\n",
    "    i = 0\n",
    "    for result in results:\n",
    "\n",
    "        current =comparison_years(result[0], result[1],matching, names[i], total_android=total_android, total_ios=total_ios)\n",
    "        i = i + 1\n",
    "        if total is None:\n",
    "            total = current\n",
    "        else:\n",
    "            total = pd.concat([total, current], axis=0)\n",
    "    return total\n"
   ]
  },
  {
   "cell_type": "code",
   "execution_count": null,
   "metadata": {},
   "outputs": [],
   "source": [
    "years_concat = comparison_years_concat([(code_23, code_24), (script_23, script_24), (podfiles_23, podfiles_24), (hidden_directory_23, hidden_directory_24), (hidden_files_23, hidden_files_24)], matching, [\"Code\", \"Scripts\", \"Podfiles\", \"Hidden Directories\", \"Hidden Files\"], total_android= 8702, total_ios= 9212)"
   ]
  },
  {
   "cell_type": "code",
   "execution_count": null,
   "metadata": {},
   "outputs": [],
   "source": [
    "years_concat"
   ]
  },
  {
   "cell_type": "code",
   "execution_count": null,
   "metadata": {
    "vscode": {
     "languageId": "javascript"
    }
   },
   "outputs": [],
   "source": [
    "years_concat.drop(columns=['Matching'], inplace=True)\n"
   ]
  },
  {
   "cell_type": "code",
   "execution_count": null,
   "metadata": {
    "vscode": {
     "languageId": "javascript"
    }
   },
   "outputs": [],
   "source": [
    "years_concat"
   ]
  },
  {
   "cell_type": "code",
   "execution_count": null,
   "metadata": {
    "vscode": {
     "languageId": "javascript"
    }
   },
   "outputs": [],
   "source": [
    "print(years_concat.to_latex())"
   ]
  },
  {
   "cell_type": "code",
   "execution_count": null,
   "metadata": {},
   "outputs": [],
   "source": [
    "install_table_code = create_installation_table_platform(join_dict(code_23, code_24), already_per_app=True)\n",
    "install_table_script = create_installation_table_platform(join_dict(script_23, script_24), already_per_app=True)\n",
    "install_table_podfiles = create_installation_table_platform(join_dict(podfiles_23, podfiles_24), already_per_app=True)\n",
    "install_table_secrets = create_installation_table_platform(results_both)\n",
    "install_table_jwt = create_installation_table_platform(jwt_both)\n",
    "install_table_pk = create_installation_table_platform(private_keys_both)\n",
    "# \"Code\": install_table_code, \"Script\": install_table_script, \"Podfiles\": install_table_podfiles,\n",
    "install_map = { \"Secrets\": install_table_secrets, \"JWT\": install_table_jwt, \"Private Keys\": install_table_pk}"
   ]
  },
  {
   "cell_type": "code",
   "execution_count": null,
   "metadata": {},
   "outputs": [],
   "source": [
    "install_table_code_2023 = create_installation_table_platform(code_23, already_per_app=True)\n",
    "install_table_script_2023 = create_installation_table_platform(script_23, already_per_app=True)\n",
    "install_table_podfiles_2023 = create_installation_table_platform(podfiles_23, already_per_app=True)\n",
    "install_table_secrets_2023 = create_installation_table_platform(results_2023)\n",
    "install_table_jwt_2023 = create_installation_table_platform(jwt_2023)\n",
    "install_table_pk_2023 = create_installation_table_platform(private_keys_2023)\n",
    "# \"Code\": install_table_code, \"Script\": install_table_script, \"Podfiles\": install_table_podfiles,\n",
    "install_map_2023 = { \"Secrets\": install_table_secrets_2023, \"JWT\": install_table_jwt_2023, \"Private Keys\": install_table_pk_2023}\n",
    "\n",
    "\n",
    "install_table_code_2024 = create_installation_table_platform(code_24, already_per_app=True)\n",
    "install_table_script_2024 = create_installation_table_platform(script_24, already_per_app=True)\n",
    "install_table_podfiles_2024 = create_installation_table_platform(podfiles_24, already_per_app=True)\n",
    "install_table_secrets_2024 = create_installation_table_platform(results_2024)\n",
    "install_table_jwt_2024 = create_installation_table_platform(jwt_2024)\n",
    "install_table_pk_2024 = create_installation_table_platform(private_keys_2024)\n",
    "# \"Code\": install_table_code, \"Script\": install_table_script, \"Podfiles\": install_table_podfiles,\n",
    "install_map_2024 = { \"Secrets\": install_table_secrets_2024, \"JWT\": install_table_jwt_2024, \"Private Keys\": install_table_pk_2024}"
   ]
  },
  {
   "cell_type": "code",
   "execution_count": null,
   "metadata": {},
   "outputs": [],
   "source": [
    "install_table_code_year = create_installation_table_years(code_23, code_24, already_per_app=True)\n",
    "install_table_script_year = create_installation_table_years(script_23, script_24, already_per_app=True)\n",
    "install_table_podfiles_year = create_installation_table_years(podfiles_23, podfiles_24, already_per_app=True)\n",
    "install_table_secrets_year = create_installation_table_years(results_2023, results_2024) \n",
    "install_table_jwt_year = create_installation_table_years(jwt_2023, jwt_2024)\n",
    "install_table_pk_year = create_installation_table_years(private_keys_2023, private_keys_2024)\n",
    "install_map_year = {\"Code\": install_table_code_year, \"Script\": install_table_script_year, \"Podfiles\": install_table_podfiles_year, \"Secrets\": install_table_secrets_year, \"JWT\": install_table_jwt_year, \"Private Keys\": install_table_pk_year}"
   ]
  },
  {
   "cell_type": "code",
   "execution_count": null,
   "metadata": {},
   "outputs": [],
   "source": [
    "get_all_installation_stats(all_apps_2023)"
   ]
  },
  {
   "cell_type": "code",
   "execution_count": null,
   "metadata": {},
   "outputs": [],
   "source": [
    "get_all_installation_stats(all_apps_2024)"
   ]
  },
  {
   "cell_type": "code",
   "execution_count": null,
   "metadata": {},
   "outputs": [],
   "source": [
    "install_count_table = create_table_installation_counts(install_map, 10331)"
   ]
  },
  {
   "cell_type": "code",
   "execution_count": null,
   "metadata": {},
   "outputs": [],
   "source": [
    "install_count_table"
   ]
  },
  {
   "cell_type": "code",
   "execution_count": null,
   "metadata": {},
   "outputs": [],
   "source": [
    "install_count_table.drop(columns=[(\"android\", 'JWT'), (\"android\", 'Private Keys'), (\"ios\", 'JWT'), (\"ios\", 'Private Keys'), (\"both\", 'JWT'), (\"both\", 'Private Keys')], inplace=True)\n",
    "\n",
    "print(install_count_table.to_latex())"
   ]
  },
  {
   "cell_type": "code",
   "execution_count": null,
   "metadata": {},
   "outputs": [],
   "source": [
    "install_count_table.to_csv(os.path.join(output_dir,\"install_count_table.csv\"))"
   ]
  },
  {
   "cell_type": "code",
   "execution_count": null,
   "metadata": {},
   "outputs": [],
   "source": [
    "install_db_year = create_table_installation_counts(install_map_year, 10331)"
   ]
  },
  {
   "cell_type": "code",
   "execution_count": null,
   "metadata": {},
   "outputs": [],
   "source": [
    "print(install_db_year.to_latex())"
   ]
  },
  {
   "cell_type": "code",
   "execution_count": null,
   "metadata": {},
   "outputs": [],
   "source": [
    "install_db_year"
   ]
  },
  {
   "cell_type": "code",
   "execution_count": null,
   "metadata": {},
   "outputs": [],
   "source": [
    "above_100_mio_2023 = get_verified_credentials_above_installation(results_2023)\n",
    "above_100_mio_2023_verified = {k:v for k,v in above_100_mio_2023.items() if v.verified}\n",
    "get_dttest_platforms(above_100_mio_2023_verified, android_app_above_100_mio)\n"
   ]
  },
  {
   "cell_type": "code",
   "execution_count": null,
   "metadata": {},
   "outputs": [],
   "source": [
    "above_100_mio_2024 = get_verified_credentials_above_installation(results_2024)\n",
    "above_100_mio_2024_verified = {k:v for k,v in above_100_mio_2024.items() if v.verified}\n",
    "get_dttest_platforms(above_100_mio_2024_verified, android_app_above_100_mio)\n"
   ]
  },
  {
   "cell_type": "code",
   "execution_count": null,
   "metadata": {},
   "outputs": [],
   "source": [
    "above_100_mio = get_verified_credentials_above_installation(results_2023)\n",
    "above_100_mio_verified = {k:v for k,v in above_100_mio.items() if v.verified}"
   ]
  },
  {
   "cell_type": "code",
   "execution_count": null,
   "metadata": {},
   "outputs": [],
   "source": [
    "above_100_mio_24 = get_verified_credentials_above_installation(results_2024)\n",
    "above_100_mio_verified_24 = {k:v for k,v in above_100_mio_24.items() if v.verified}"
   ]
  },
  {
   "cell_type": "code",
   "execution_count": null,
   "metadata": {},
   "outputs": [],
   "source": [
    "get_dttest_years(above_100_mio_verified, above_100_mio_verified_24, android_app_above_100_mio, matching, only_Android=True, only_iOS=False)"
   ]
  },
  {
   "cell_type": "code",
   "execution_count": null,
   "metadata": {},
   "outputs": [],
   "source": [
    "get_dttest_years(above_100_mio_verified, above_100_mio_verified_24, android_app_above_100_mio, matching, only_Android=False, only_iOS=True)"
   ]
  },
  {
   "cell_type": "code",
   "execution_count": null,
   "metadata": {},
   "outputs": [],
   "source": [
    "get_dttest_years(above_100_mio_verified, above_100_mio_verified_24, android_app_above_100_mio, matching, only_Android=False, only_iOS=False)"
   ]
  },
  {
   "cell_type": "code",
   "execution_count": null,
   "metadata": {},
   "outputs": [],
   "source": [
    "get_dttest_platforms(above_100_mio_verified, android_app_above_100_mio)\n"
   ]
  },
  {
   "cell_type": "code",
   "execution_count": null,
   "metadata": {},
   "outputs": [],
   "source": [
    "def create_install_map_above_100(current_install_map):\n",
    "    result = {}\n",
    "    for key, value in current_install_map.items():\n",
    "        result[key] = {}\n",
    "        for platform, installs in value.items():\n",
    "            result[key][platform] = {k: v for k, v in installs.items() if k >= 100000000}\n",
    "    return result\n",
    "\n"
   ]
  },
  {
   "cell_type": "code",
   "execution_count": null,
   "metadata": {},
   "outputs": [],
   "source": [
    "install_map_above_100_mio = create_install_map_above_100(install_map)"
   ]
  },
  {
   "cell_type": "code",
   "execution_count": null,
   "metadata": {},
   "outputs": [],
   "source": [
    "install_count_table = create_table_installation_counts(install_map_above_100_mio, 464)"
   ]
  },
  {
   "cell_type": "code",
   "execution_count": null,
   "metadata": {},
   "outputs": [],
   "source": [
    "install_count_table"
   ]
  },
  {
   "cell_type": "code",
   "execution_count": null,
   "metadata": {},
   "outputs": [],
   "source": [
    "install_map_above_100_mio_23 = create_install_map_above_100(install_map_2023)\n",
    "install_count_table_23 = create_table_installation_counts(install_map_above_100_mio_23, 464)\n",
    "install_map_above_100_mio_24 = create_install_map_above_100(install_map_2024)\n",
    "install_count_table_24 = create_table_installation_counts(install_map_above_100_mio_24, 464)\n"
   ]
  },
  {
   "cell_type": "code",
   "execution_count": null,
   "metadata": {},
   "outputs": [],
   "source": [
    "install_count_table_23"
   ]
  },
  {
   "cell_type": "code",
   "execution_count": null,
   "metadata": {},
   "outputs": [],
   "source": [
    "install_count_table_24"
   ]
  },
  {
   "cell_type": "code",
   "execution_count": null,
   "metadata": {},
   "outputs": [],
   "source": [
    "create_classified_file_table(above_100_mio, format=True)"
   ]
  },
  {
   "cell_type": "code",
   "execution_count": null,
   "metadata": {},
   "outputs": [],
   "source": [
    "detector_above_100_mio = get_stats_detector_platform(above_100_mio, matching, app_ids=android_app_above_100_mio)"
   ]
  },
  {
   "cell_type": "code",
   "execution_count": null,
   "metadata": {},
   "outputs": [],
   "source": [
    "detector_above_100_mio.drop(columns=[col for col in detector_above_100_mio.columns if col.startswith('invalid')], inplace=True)\n",
    "detector_above_100_mio.drop(columns=[col for col in detector_above_100_mio.columns if col.startswith('percentage_')], inplace=True)\n",
    "\n",
    "print(detector_above_100_mio.to_latex())"
   ]
  },
  {
   "cell_type": "code",
   "execution_count": null,
   "metadata": {},
   "outputs": [],
   "source": [
    "detector_above_100_mio"
   ]
  },
  {
   "cell_type": "code",
   "execution_count": null,
   "metadata": {},
   "outputs": [],
   "source": [
    "get_dttest_platforms(above_100_mio_verified, android_app_above_100_mio)"
   ]
  },
  {
   "cell_type": "code",
   "execution_count": null,
   "metadata": {},
   "outputs": [],
   "source": [
    "for k,v in above_100_mio_verified.items():\n",
    "    print(k)\n",
    "    print(v.apps)\n",
    "    print(v.files)\n",
    "    print(v.detector)"
   ]
  },
  {
   "cell_type": "code",
   "execution_count": null,
   "metadata": {},
   "outputs": [],
   "source": [
    "compare_android_and_ios(above_100_mio_verified, matching)\n"
   ]
  },
  {
   "cell_type": "code",
   "execution_count": null,
   "metadata": {},
   "outputs": [],
   "source": [
    "get_formated_results(get_android_ios_app_stats(above_100_mio_verified,matching))"
   ]
  },
  {
   "cell_type": "code",
   "execution_count": null,
   "metadata": {},
   "outputs": [],
   "source": [
    "for k,v in jwt_2024.items():\n",
    "    print(v.apps)\n",
    "    print(v.files)\n",
    "\n"
   ]
  },
  {
   "cell_type": "code",
   "execution_count": null,
   "metadata": {},
   "outputs": [],
   "source": [
    "def create_current_results_year(results_1, matching_apps):\n",
    "    results_1 = {k:v for k,v in results_1.items() if v.verified}\n",
    "    results_both = {k:v for k,v in results_1.items() for app in v.apps if app.platform == \"ios\" and AppInfo(matching_apps[app.name], \"android\") in v.apps}\n",
    "    results_android = {k:v for k,v in results_1.items() for app in v.apps if app.platform == \"android\"}\n",
    "    results_ios = {k:v for k,v in results_1.items() for app in v.apps if app.platform == \"ios\"}\n",
    "    return {\"both\": len(results_both), \"android\": len(results_android)-len(results_both), \"ios\": len(results_ios)-len(results_both)}\n",
    "\n",
    "def compare_verified_years(results_1, results_2):\n",
    "    results_1_verified = {k:v for k,v in results_1.items() if v.verified}\n",
    "    results_2_verified = {k:v for k,v in results_2.items() if v.verified}\n",
    "    result = {}\n",
    "    for k,v in results_1_verified.items():\n",
    "        if k in results_2_verified:\n",
    "            result[\"old\"] = result.get(\"old\", 0) + 1\n",
    "        else:\n",
    "            result[\"old_valid\"] = result.get(\"old_valid\", 0) + 1\n",
    "\n",
    "    for k,v in results_2_verified.items():\n",
    "        if k not in results_1_verified:\n",
    "            result[\"new\"] = result.get(\"new\", 0) + 1\n",
    "    return result\n",
    "\n",
    "\n",
    "def create_sankey_comparison(results_1, results_2, matching_apps):\n",
    "    result_values = {\"2023\": {\"ios\": 0, \"android\": 0, \"both\": 0}, \"2024\": {\"ios\": 0, \"android\": 0, \"both\": 0}, \"comparison\": {\"old\": 0, \"new\": 0, \"old_valid\": 0}}\n",
    "    result_values[\"2023\"] = create_current_results_year(results_1, matching_apps)\n",
    "    result_values[\"2024\"] = create_current_results_year(results_2, matching_apps)\n",
    "    result_values[\"comparison\"] = compare_verified_years(results_1, results_2)\n",
    "\n",
    "\n",
    "    labels = [\"Both\", \"Android\", \"iOS\", \"2023\", \"New\", \"2024\", \"Removed\", \"Both\", \"Android\", \"iOS\"]\n",
    "\n",
    "    sources = []\n",
    "    targets = []\n",
    "    values = []\n",
    "\n",
    "    # findings_platform -> 2023\n",
    "    sources += [0, 1, 2]  # both_2023, android_2023, ios_2023\n",
    "    targets += [3, 3, 3]  # 2023\n",
    "    values += [result_values['2023']['both'], result_values['2023']['android'], result_values['2023']['ios']]\n",
    "\n",
    "    # 2023 -> 2024\n",
    "    sources += [3, 4, 3] # old, new, old\n",
    "    targets += [5, 5, 6] # 2024, removed but valid\n",
    "    values += [result_values['comparison']['old'], result_values['comparison']['new'], result_values['comparison']['old_valid']]\n",
    "\n",
    "    # 2024 -> findings_platform\n",
    "    sources += [5, 5, 5] # 2024\n",
    "    targets += [7, 8, 9]  # both_2024, android_2024, ios_2024\n",
    "\n",
    "    values += [result_values['2024']['both'], result_values['2024']['android'], result_values['2024']['ios']]\n",
    "\n",
    "    color_for_nodes = [\"#808080\", \"#a4c639\", \"#313131\", \"#A9A9A9\", \"#FFA500\" ,  \"#A9A9A9\", \"#d10b0b\", \"#808080\", \"#a4c639\",\"#313131\"]\n",
    "    # Compute total values for each node\n",
    "    total_values = [0] * len(labels)\n",
    "    for i, val in enumerate(values):\n",
    "        total_values[targets[i]] += val\n",
    "    for i, val in enumerate(values):\n",
    "        total_values[sources[i]] += val\n",
    "    \n",
    "    total_values[3] = int(total_values[3]/2)\n",
    "    total_values[5] = int(total_values[5]/2)\n",
    "\n",
    "    x = [0.12 - 0.1, 0.12 - 0.1, 0.12 - 0.1, 0.22, 0.29 + 0.1, 0.36 + 0.15, 0.29 + 0.1 ,0.46 + 0.25, 0.46 + 0.25, 0.46 + 0.25]\n",
    "    y = [0.35, 0.07, 0.68, 0.50, 0.85, 0.50, 0.08 ,0.35, 0.07, 0.68]\n",
    "\n",
    "    y = [i + 0.1 for i in y]\n",
    "\n",
    "    fig = go.Figure(go.Sankey(\n",
    "        node=dict(\n",
    "            pad=15,\n",
    "            thickness=20,\n",
    "            line=dict(color=\"black\", width=0.5),\n",
    "            label=labels,\n",
    "                        x = x,\n",
    "            y = y\n",
    "        ),\n",
    "        link=dict(\n",
    "            source=sources,\n",
    "            target=targets,\n",
    "            value=values\n",
    "        )\n",
    "    ))\n",
    "    fig.update_traces(node_color=color_for_nodes)\n",
    "    fig.add_annotation(dict(font=dict(color=\"black\",size=15), x=0.102 - 0.1, y=0.715, showarrow=False, text=total_values[0]))\n",
    "    fig.add_annotation(dict(font=dict(color=\"black\",size=15), x=0.102 - 0.1, y=0.985, showarrow=False, text=total_values[1]))\n",
    "    fig.add_annotation(dict(font=dict(color=\"black\",size=15), x=0.095 - 0.1, y=0.4, showarrow=False, text=total_values[2]))\n",
    "\n",
    "\n",
    "    fig.add_annotation(dict(font=dict(color=\"black\",size=15), x=0.195, y=0.80, showarrow=False, text=total_values[3])) # 2023\n",
    "    fig.add_annotation(dict(font=dict(color=\"black\",size=15), x=0.29 + 0.1, y=0.15 , showarrow=False, text=total_values[4])) # new\n",
    "\n",
    "\n",
    "\n",
    "    fig.add_annotation(dict(font=dict(color=\"black\",size=15), x=0.36 + 0.15, y=0.80, showarrow=False, text=total_values[5])) # 2024\n",
    "\n",
    "    fig.add_annotation(dict(font=dict(color=\"black\",size=15), x=0.29 + 0.1, y=0.985, showarrow=False, text=total_values[6])) # Removed\n",
    "\n",
    "    fig.add_annotation(dict(font=dict(color=\"black\",size=15), x=0.46 + 0.27, y=0.69, showarrow=False, text=total_values[7])) # both\n",
    "    fig.add_annotation(dict(font=dict(color=\"black\",size=15), x=0.46 + 0.27, y=0.99, showarrow=False, text=total_values[8])) # android\n",
    "    fig.add_annotation(dict(font=dict(color=\"black\",size=15), x=0.46 + 0.275, y=0.42, showarrow=False, text=total_values[9])) # ios6\n",
    "    #fig.update_layout(font_size=10, annotations=annotations)\n",
    "    return fig\n"
   ]
  },
  {
   "cell_type": "code",
   "execution_count": null,
   "metadata": {},
   "outputs": [],
   "source": [
    "fig = create_sankey_comparison(results_2023, results_2024, matching)"
   ]
  },
  {
   "cell_type": "code",
   "execution_count": null,
   "metadata": {},
   "outputs": [],
   "source": [
    "import plotly.io as pio\n",
    "\n",
    "pio.write_image(fig, 'sankey_comparison.pdf')"
   ]
  },
  {
   "cell_type": "code",
   "execution_count": null,
   "metadata": {},
   "outputs": [],
   "source": [
    "# Filtering stats\n",
    "all_secret_canditaes = get_all_infos(db_2023)\n",
    "all_secret_canditaes_2024 = get_all_infos(db_2024)"
   ]
  },
  {
   "cell_type": "code",
   "execution_count": null,
   "metadata": {},
   "outputs": [],
   "source": [
    "results_secrets, rule_ids, unique_per_file = get_unique_secrets(all_secret_canditaes)\n",
    "results_secrets_24, rule_ids_24, unique_per_file_24 = get_unique_secrets(all_secret_canditaes_2024)"
   ]
  },
  {
   "cell_type": "code",
   "execution_count": null,
   "metadata": {},
   "outputs": [],
   "source": [
    "# results_secrets - secret - to apps\n",
    "\n",
    "def create_filter_app_number_table(secrets_apps, valid, cutoff = 25):\n",
    "    result = {}\n",
    "    for secret, apps in secrets_apps.items():\n",
    "        #if len(apps) > cutoff:\n",
    "        #    continue\n",
    "        current = result.get(len(apps), {})\n",
    "        if secret in valid:\n",
    "            current[\"valid\"] = current.get(\"valid\", 0) + 1\n",
    "        else:\n",
    "            current[\"invalid\"] = current.get(\"invalid\", 0) + 1\n",
    "\n",
    "        result[len(apps)] = current\n",
    "\n",
    "    for k,v in result.items():\n",
    "        if \"valid\" not in v:\n",
    "            v[\"valid\"] = 0\n",
    "        if \"invalid\" not in v:\n",
    "            v[\"invalid\"] = 0\n",
    "        v[\"percentage\"] = f\"{(v['valid']/(v['valid']+v['invalid']))*100:.2f}%\"\n",
    "\n",
    "    df = pd.DataFrame(result).transpose()\n",
    "    df = df.sort_index()\n",
    "    return df\n",
    "\n",
    "\n",
    "def create_filter_file_number_table(files_detector_secrets, valid, cutoff = 30):\n",
    "    lowest = {}\n",
    "    result = {}\n",
    "    for files, dectector_map in files_detector_secrets.items():\n",
    "        for detector in dectector_map.keys():\n",
    "            current_len = len(dectector_map[detector])\n",
    "            if cutoff and current_len > cutoff:\n",
    "                continue\n",
    "            for secret in dectector_map[detector]:\n",
    "                if secret not in lowest:\n",
    "                    lowest[secret] = current_len\n",
    "                else:\n",
    "                    lowest[secret] = min(lowest[secret], current_len)\n",
    "\n",
    "\n",
    "    for secret, current_len in lowest.items():\n",
    "        current = result.get(current_len, {})\n",
    "        if secret in valid:\n",
    "            current[\"valid\"] = current.get(\"valid\", 0) + 1\n",
    "        else:\n",
    "            current[\"invalid\"] = current.get(\"invalid\", 0) + 1\n",
    "        result[current_len] = current\n",
    "\n",
    "    for k,v in result.items():\n",
    "        if \"valid\" not in v:\n",
    "            v[\"valid\"] = 0\n",
    "        if \"invalid\" not in v:\n",
    "            v[\"invalid\"] = 0\n",
    "        v[\"percentage\"] = f\"{(v['valid']/(v['valid']+v['invalid']))*100:.2f}%\"\n",
    "\n",
    "    df = pd.DataFrame(result).transpose()\n",
    "    df = df.sort_index()\n",
    "    return df\n",
    "\n"
   ]
  },
  {
   "cell_type": "code",
   "execution_count": null,
   "metadata": {},
   "outputs": [],
   "source": [
    "def create_combined_app_number_table(results_secrets_1, results_secrets_2, results_both_verified):\n",
    "    df_1 = create_filter_app_number_table(results_secrets_1, results_both_verified)\n",
    "    df_2 = create_filter_app_number_table(results_secrets_2, results_both_verified)\n",
    "    df_1.loc['>=15'] = df_1[df_1.index >= 15].sum()\n",
    "    df_2.loc['>=15'] = df_2[df_2.index >= 15].sum()\n",
    "    #df_1 = df_1.drop(df_1[type(df_1.index) == type(1) and df_1.index >= 15].index)\n",
    "    #df_2 = df_2.drop(df_2[type(df_1.index) == type(1) and df_2.index >= 15].index)\n",
    "\n",
    "    df =  df_1.join(df_2, lsuffix=\"_2023\", rsuffix=\"_2024\")\n",
    "    df = df.fillna(0)\n",
    "    return df\n",
    "\n",
    "\n",
    "def create_combined_file_number_table(results_secrets_1, results_secrets_2, results_both_verified, cutt_off = 15):\n",
    "    df_1 = create_filter_file_number_table(results_secrets_1, results_both_verified, cutoff=1000000)\n",
    "    df_2 = create_filter_file_number_table(results_secrets_2, results_both_verified, cutoff=1000000)\n",
    "    df_1_sum =  df_1[df_1.index >= cutt_off].sum()\n",
    "    df_2_sum =  df_2[df_2.index >= cutt_off].sum()\n",
    "\n",
    "    df_1 = df_1.drop(df_1[df_1.index >= cutt_off].index)\n",
    "    df_2 = df_2.drop(df_2[df_2.index >= cutt_off].index)\n",
    "    df_1.loc[f'>={cutt_off}'] = df_1_sum\n",
    "    df_2.loc[f'>={cutt_off}'] = df_2_sum\n",
    "    df =  df_1.join(df_2, lsuffix=\"_2023\", rsuffix=\"_2024\")\n",
    "    df = df.fillna(0)\n",
    "    return df\n",
    "\n",
    "\n",
    "def create_total_file_number_table(results_secrets_1, results_secrets_2, results_both_verified, cutt_off = 15):\n",
    "    new_results = join_dict(results_secrets_1, results_secrets_2)\n",
    "\n",
    "    df_1 = create_filter_file_number_table(new_results, results_both_verified, cutoff=None)\n",
    "    df_1_total = df_1.sum()\n",
    "\n",
    "    df_1_sum =  df_1[df_1.index >= cutt_off].sum()\n",
    "    df_1_sum_v2 = df_1[(df_1.index > 9) & (df_1.index < cutt_off)].sum()\n",
    "\n",
    "    df_1 = df_1.drop(df_1[df_1.index >= cutt_off].index)\n",
    "    df_1 = df_1.drop(df_1[(df_1.index > 9) & (df_1.index < cutt_off)].index)\n",
    "    df_1.loc[f'>9 & <{cutt_off}'] = df_1_sum_v2\n",
    "    df_1.loc[f'>{cutt_off-1}'] = df_1_sum\n",
    "    df_1.loc['Total'] = df_1_total\n",
    "    df_1 = df_1.fillna(0)\n",
    "    return df_1"
   ]
  },
  {
   "cell_type": "code",
   "execution_count": null,
   "metadata": {},
   "outputs": [],
   "source": [
    "\n"
   ]
  },
  {
   "cell_type": "code",
   "execution_count": null,
   "metadata": {},
   "outputs": [],
   "source": [
    "23730+388 - 14559"
   ]
  },
  {
   "cell_type": "code",
   "execution_count": null,
   "metadata": {},
   "outputs": [],
   "source": [
    "heurisitc_1 = create_total_file_number_table(unique_per_file, unique_per_file_24, results_both_verified, cutt_off=15)"
   ]
  },
  {
   "cell_type": "code",
   "execution_count": null,
   "metadata": {},
   "outputs": [],
   "source": [
    "print(heurisitc_1.to_latex())"
   ]
  },
  {
   "cell_type": "code",
   "execution_count": null,
   "metadata": {},
   "outputs": [],
   "source": [
    "combined_apps = create_combined_app_number_table(results_secrets, results_secrets_24, results_both_verified)"
   ]
  },
  {
   "cell_type": "code",
   "execution_count": null,
   "metadata": {},
   "outputs": [],
   "source": [
    "create_combined_file_number_table(unique_per_file, unique_per_file_24, results_both_verified, cutt_off=15)"
   ]
  },
  {
   "cell_type": "code",
   "execution_count": null,
   "metadata": {},
   "outputs": [],
   "source": [
    "combined_apps"
   ]
  }
 ],
 "metadata": {
  "kernelspec": {
   "display_name": "execution-gGNv-6dD",
   "language": "python",
   "name": "python3"
  },
  "language_info": {
   "codemirror_mode": {
    "name": "ipython",
    "version": 3
   },
   "file_extension": ".py",
   "mimetype": "text/x-python",
   "name": "python",
   "nbconvert_exporter": "python",
   "pygments_lexer": "ipython3",
   "version": "3.13.3"
  }
 },
 "nbformat": 4,
 "nbformat_minor": 2
}
