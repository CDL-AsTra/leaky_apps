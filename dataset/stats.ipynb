{
 "cells": [
  {
   "cell_type": "code",
   "execution_count": null,
   "metadata": {},
   "outputs": [],
   "source": [
    "import json\n",
    "import sqlite3\n",
    "import os\n"
   ]
  },
  {
   "cell_type": "code",
   "execution_count": null,
   "metadata": {},
   "outputs": [],
   "source": [
    "matching_file = \"./apps/matching.json\""
   ]
  },
  {
   "cell_type": "code",
   "execution_count": null,
   "metadata": {},
   "outputs": [],
   "source": [
    "with open(matching_file) as f:\n",
    "    matching_in_dataset = json.load(f)"
   ]
  },
  {
   "cell_type": "code",
   "execution_count": null,
   "metadata": {},
   "outputs": [],
   "source": [
    "def add_dataset(filename):\n",
    "    dataset = set()\n",
    "    with open(filename) as f:\n",
    "        for line in f:\n",
    "            dataset.add(line.strip())\n",
    "    return dataset\n",
    "\n",
    "def write_json(data, filename):\n",
    "    with open(filename, \"w\") as f:\n",
    "        json.dump(data, f, indent=4)"
   ]
  },
  {
   "cell_type": "code",
   "execution_count": null,
   "metadata": {},
   "outputs": [],
   "source": [
    "def write_app_file(data,filename):\n",
    "    with open(filename, \"w\") as f:\n",
    "        for app in data:\n",
    "            f.write(app + \"\\n\")"
   ]
  },
  {
   "cell_type": "code",
   "execution_count": null,
   "metadata": {},
   "outputs": [],
   "source": [
    "android_2023 = add_dataset('./apps/android-cross-platform-2023.txt')\n",
    "ios_2023 = add_dataset('./apps/ios-cross-platform-2023.txt')\n"
   ]
  },
  {
   "cell_type": "code",
   "execution_count": null,
   "metadata": {},
   "outputs": [],
   "source": [
    "android_2024 = add_dataset('./apps/android-cross-platform-2024.txt')\n",
    "ios_2024 = add_dataset('./apps/ios-cross-platform-2024.txt')\n"
   ]
  },
  {
   "cell_type": "code",
   "execution_count": null,
   "metadata": {},
   "outputs": [],
   "source": [
    "matching_results = {}\n",
    "for k,v in matching_in_dataset.items():\n",
    "    if k in ios_2023 and v in android_2023 and v not in matching_results.values():\n",
    "        matching_results[k] = v\n",
    "\n",
    "print(len(set(matching_results.keys())))\n",
    "print(len(set(matching_results.values())))\n"
   ]
  },
  {
   "cell_type": "code",
   "execution_count": null,
   "metadata": {},
   "outputs": [],
   "source": [
    "android_2024_in_dataset = [k for k in matching_results.values() if k in android_2024]\n",
    "ios_2024_in_dataset = [k for k in matching_results.keys() if k in ios_2024]"
   ]
  },
  {
   "cell_type": "code",
   "execution_count": null,
   "metadata": {},
   "outputs": [],
   "source": [
    "print(len(android_2024_in_dataset))\n",
    "print(len(ios_2024_in_dataset))"
   ]
  },
  {
   "cell_type": "code",
   "execution_count": null,
   "metadata": {},
   "outputs": [],
   "source": [
    "print(\"android not available\")\n",
    "print(len(matching_results) - len(android_2024_in_dataset))"
   ]
  },
  {
   "cell_type": "code",
   "execution_count": null,
   "metadata": {},
   "outputs": [],
   "source": [
    "print(\"ios not available\")\n",
    "print(len(matching_results) - len(ios_2024_in_dataset))"
   ]
  }
 ],
 "metadata": {
  "kernelspec": {
   "display_name": "execution-gGNv-6dD",
   "language": "python",
   "name": "python3"
  },
  "language_info": {
   "codemirror_mode": {
    "name": "ipython",
    "version": 3
   },
   "file_extension": ".py",
   "mimetype": "text/x-python",
   "name": "python",
   "nbconvert_exporter": "python",
   "pygments_lexer": "ipython3",
   "version": "3.13.3"
  }
 },
 "nbformat": 4,
 "nbformat_minor": 2
}
